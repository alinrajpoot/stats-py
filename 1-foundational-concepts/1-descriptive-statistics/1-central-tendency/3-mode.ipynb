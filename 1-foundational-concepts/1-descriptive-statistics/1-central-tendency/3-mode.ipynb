{
 "cells": [
  {
   "cell_type": "markdown",
   "id": "562cb2e7",
   "metadata": {},
   "source": [
    "# Mode\n",
    "The mode is the value that appears most frequently in a dataset. Unlike mean and median, the mode can be used with both numerical and categorical data.\n",
    "\n",
    "- **Most frequent value:** Identifies the most common observation\n",
    "- **Works with categorical data:** The only measure of central tendency that works with non-numerical data\n",
    "- **Multiple modes possible:** A dataset can have no mode, one mode, or multiple modes\n",
    "- **Not affected by outliers:** Extreme values don't influence the mode\n",
    "\n",
    "**When to Use Mode**\n",
    "\n",
    "Use Mode If:\n",
    "- Categorical data (colors, brands, types)\n",
    "- Identifying peaks in distributions\n",
    "- Most common category or preference\n",
    "- Nominal data where mathematical operations don't make sense\n",
    "- Quick insight into popular choices\n",
    "\n",
    "Don't Use Mode If:\n",
    "- You need a mathematical average for calculations\n",
    "- Data has many unique values with low frequencies\n",
    "- You're working with continuous numerical data without clear peaks\n",
    "\n"
   ]
  },
  {
   "cell_type": "markdown",
   "id": "319bfe99",
   "metadata": {},
   "source": [
    "**Types of Mode**\n",
    "1. **Unimodal:** One value appears most frequently, `[1, 2, 2, 3, 4] → Mode = 2`\n",
    "2. **Bimodal:** Two values appear with the same highest frequency, `[1, 2, 2, 3, 3, 4] → Modes = 2, 3`\n",
    "3. **Multimodal:** More than two values appear with the same highest frequency, `[1, 1, 2, 2, 3, 3, 4] → Modes = 1, 2, 3`\n",
    "4. **No Mode:** All values appear with equal frequency, `[1, 2, 3, 4, 5] → No mode`\n",
    "\n"
   ]
  },
  {
   "cell_type": "markdown",
   "id": "40050fcf",
   "metadata": {},
   "source": [
    "## Implementation"
   ]
  },
  {
   "cell_type": "markdown",
   "id": "0c73fd5f",
   "metadata": {},
   "source": [
    "### 1. Using SciPy Stats Module"
   ]
  },
  {
   "cell_type": "code",
   "execution_count": 4,
   "id": "06de6856",
   "metadata": {},
   "outputs": [
    {
     "name": "stdout",
     "output_type": "stream",
     "text": [
      "Mode value: 4\n",
      "Mode count: 3\n",
      "Full result: ModeResult(mode=np.int64(4), count=np.int64(3))\n",
      "The value 4 appears 3 times\n"
     ]
    }
   ],
   "source": [
    "from scipy import stats\n",
    "import numpy as np\n",
    "\n",
    "# Numerical data with mode\n",
    "data = [1, 2, 2, 3, 4, 4, 4, 5]\n",
    "\n",
    "# Calculate mode - returns ModeResult object\n",
    "mode_result = stats.mode(data)\n",
    "\n",
    "print(f\"Mode value: {mode_result.mode}\")        # [4]\n",
    "print(f\"Mode count: {mode_result.count}\")       # [3]\n",
    "print(f\"Full result: {mode_result}\")           # ModeResult(mode=array([4]), count=array([3]))\n",
    "\n",
    "# Working with the result\n",
    "mode_value = mode_result.mode\n",
    "mode_count = mode_result.count\n",
    "print(f\"The value {mode_value} appears {mode_count} times\")"
   ]
  },
  {
   "cell_type": "markdown",
   "id": "02568112",
   "metadata": {},
   "source": [
    "### 2. Using pandas (for Data Analysis)"
   ]
  },
  {
   "cell_type": "code",
   "execution_count": 5,
   "id": "ad3400dc",
   "metadata": {},
   "outputs": [
    {
     "name": "stdout",
     "output_type": "stream",
     "text": [
      "DataFrame:\n",
      "  product_category  price  customer_rating\n",
      "0      Electronics    100                4\n",
      "1         Clothing     50                5\n",
      "2      Electronics    150                4\n",
      "3            Books     30                3\n",
      "4      Electronics    120                4\n",
      "5         Clothing     45                5\n",
      "\n",
      "Most common product category: ['Electronics']\n",
      "Most common rating: [4]\n",
      "\n",
      "Modes for each column:\n",
      "  product_category  price  customer_rating\n",
      "0      Electronics     30              4.0\n",
      "1              NaN     45              NaN\n",
      "2              NaN     50              NaN\n",
      "3              NaN    100              NaN\n",
      "4              NaN    120              NaN\n",
      "5              NaN    150              NaN\n"
     ]
    }
   ],
   "source": [
    "import pandas as pd\n",
    "import numpy as np\n",
    "\n",
    "# Create a DataFrame with mixed data types\n",
    "data = {\n",
    "    'product_category': ['Electronics', 'Clothing', 'Electronics', 'Books', 'Electronics', 'Clothing'],\n",
    "    'price': [100, 50, 150, 30, 120, 45],\n",
    "    'customer_rating': [4, 5, 4, 3, 4, 5]\n",
    "}\n",
    "df = pd.DataFrame(data)\n",
    "\n",
    "print(\"DataFrame:\")\n",
    "print(df)\n",
    "\n",
    "# Mode for categorical data\n",
    "category_mode = df['product_category'].mode()\n",
    "print(f\"\\nMost common product category: {category_mode.values}\")  # ['Electronics']\n",
    "\n",
    "# Mode for numerical data\n",
    "rating_mode = df['customer_rating'].mode()\n",
    "print(f\"Most common rating: {rating_mode.values}\")  # [4]\n",
    "\n",
    "# Mode for entire DataFrame (returns mode for each column)\n",
    "df_modes = df.mode()\n",
    "print(\"\\nModes for each column:\")\n",
    "print(df_modes)"
   ]
  },
  {
   "cell_type": "markdown",
   "id": "2dfc5195",
   "metadata": {},
   "source": [
    "## Advanced Usage"
   ]
  },
  {
   "cell_type": "markdown",
   "id": "cad4e4b7",
   "metadata": {},
   "source": [
    "### 1. Mode with Grouped Data"
   ]
  },
  {
   "cell_type": "code",
   "execution_count": 16,
   "id": "eae13e62",
   "metadata": {},
   "outputs": [
    {
     "name": "stdout",
     "output_type": "stream",
     "text": [
      "Original Data:\n",
      "    department programming_language\n",
      "0           HR               Python\n",
      "1           HR               Python\n",
      "2           HR                 Java\n",
      "3  Engineering               Python\n",
      "4  Engineering           JavaScript\n",
      "5  Engineering               Python\n",
      "6        Sales                 Java\n",
      "7        Sales               Python\n",
      "\n",
      "Most common programming language by department:\n",
      "department\n",
      "Engineering    Python\n",
      "HR             Python\n",
      "Sales            Java\n",
      "Name: programming_language, dtype: object\n"
     ]
    }
   ],
   "source": [
    "import pandas as pd\n",
    "\n",
    "# Sample data with groups\n",
    "data = {\n",
    "    'department': ['HR', 'HR', 'HR', 'Engineering', 'Engineering', 'Engineering', 'Sales', 'Sales'],\n",
    "    'programming_language': ['Python', 'Python', 'Java', 'Python', 'JavaScript', 'Python', 'Java', 'Python']\n",
    "}\n",
    "\n",
    "df_tech = pd.DataFrame(data)\n",
    "\n",
    "print(\"Original Data:\")\n",
    "print(df_tech)\n",
    "\n",
    "# Mode by group\n",
    "department_modes = df_tech.groupby('department')['programming_language'].agg(\n",
    "    lambda x: x.mode().iloc[0] if not x.mode().empty else 'No mode'\n",
    ")\n",
    "\n",
    "print(\"\\nMost common programming language by department:\")\n",
    "print(department_modes)"
   ]
  },
  {
   "cell_type": "markdown",
   "id": "51c33ed3",
   "metadata": {},
   "source": [
    "### 2. Mode with DateTime Data"
   ]
  },
  {
   "cell_type": "code",
   "execution_count": 18,
   "id": "7228e485",
   "metadata": {},
   "outputs": [
    {
     "name": "stdout",
     "output_type": "stream",
     "text": [
      "Sales occurred on 7 different days\n",
      "Most common sales day(s): ['جمعرات']\n"
     ]
    }
   ],
   "source": [
    "import pandas as pd\n",
    "\n",
    "# Most common day of the week for sales\n",
    "dates = pd.date_range('2024-01-01', '2024-03-31', freq='D')\n",
    "sales_days = np.random.choice(dates, 50)  # Random sales dates\n",
    "\n",
    "# Convert to day names\n",
    "day_names = [pd.Timestamp(day).strftime('%A') for day in sales_days]\n",
    "\n",
    "day_series = pd.Series(day_names)\n",
    "most_common_day = day_series.mode()\n",
    "\n",
    "print(f\"Sales occurred on {len(set(day_names))} different days\")\n",
    "print(f\"Most common sales day(s): {list(most_common_day)}\")"
   ]
  },
  {
   "cell_type": "markdown",
   "id": "fea7f90d",
   "metadata": {},
   "source": [
    "\n",
    "#### Key Python Libraries Summary\n",
    "\n",
    "| Library      | Function(s)                          | Best For                                         |\n",
    "|--------------|--------------------------------------|--------------------------------------------------|\n",
    "| Statistics   | `mode()`, `multimode()`              | Basic mode calculations, educational use         |\n",
    "| SciPy        | `stats.mode()`                       | Numerical arrays, returns count as well          |\n",
    "| pandas       | `Series.mode()`, `DataFrame.mode()`  | Data analysis, handles multiple modes well       |\n",
    "| Collections  | `Counter().most_common()`            | Frequency analysis, custom mode logic            |\n",
    "\n",
    "\n",
    "#### Practical Tips\n",
    "- **For categorical data:** Always use mode instead of mean/median\n",
    "- **Check for multiple modes:** They can reveal important patterns in your data\n",
    "- **With continuous data:** Consider binning first to find ranges with highest frequency\n",
    "- **In machine learning:** Mode is used for imputing missing categorical values\n",
    "- **For business insights:** Mode reveals the most common customer behavior or preference\n",
    "\n",
    "The mode is particularly valuable when you need to understand what's \"typical\" or \"most popular\" in your data, especially with categorical information!\n",
    "\n"
   ]
  },
  {
   "cell_type": "markdown",
   "id": "78b5a676",
   "metadata": {},
   "source": []
  }
 ],
 "metadata": {
  "kernelspec": {
   "display_name": "py3_13_5",
   "language": "python",
   "name": "python3"
  },
  "language_info": {
   "codemirror_mode": {
    "name": "ipython",
    "version": 3
   },
   "file_extension": ".py",
   "mimetype": "text/x-python",
   "name": "python",
   "nbconvert_exporter": "python",
   "pygments_lexer": "ipython3",
   "version": "3.13.5"
  }
 },
 "nbformat": 4,
 "nbformat_minor": 5
}
