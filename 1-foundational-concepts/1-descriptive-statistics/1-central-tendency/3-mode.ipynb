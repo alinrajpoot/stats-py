{
 "cells": [
  {
   "cell_type": "markdown",
   "id": "562cb2e7",
   "metadata": {},
   "source": [
    "# Mode\n",
    "The mode is the value that appears most frequently in a dataset. Unlike mean and median, the mode can be used with both numerical and categorical data.\n",
    "\n",
    "- **Most frequent value:** Identifies the most common observation\n",
    "- **Works with categorical data:** The only measure of central tendency that works with non-numerical data\n",
    "- **Multiple modes possible:** A dataset can have no mode, one mode, or multiple modes\n",
    "- **Not affected by outliers:** Extreme values don't influence the mode\n",
    "\n",
    "**When to Use Mode**\n",
    "\n",
    "Use Mode If:\n",
    "- Categorical data (colors, brands, types)\n",
    "- Identifying peaks in distributions\n",
    "- Most common category or preference\n",
    "- Nominal data where mathematical operations don't make sense\n",
    "- Quick insight into popular choices\n",
    "\n",
    "Don't Use Mode If:\n",
    "- You need a mathematical average for calculations\n",
    "- Data has many unique values with low frequencies\n",
    "- You're working with continuous numerical data without clear peaks\n",
    "\n"
   ]
  },
  {
   "cell_type": "markdown",
   "id": "319bfe99",
   "metadata": {},
   "source": [
    "**Types of Mode**\n",
    "1. **Unimodal:** One value appears most frequently, `[1, 2, 2, 3, 4] → Mode = 2`\n",
    "2. **Bimodal:** Two values appear with the same highest frequency, `[1, 2, 2, 3, 3, 4] → Modes = 2, 3`\n",
    "3. **Multimodal:** More than two values appear with the same highest frequency, `[1, 1, 2, 2, 3, 3, 4] → Modes = 1, 2, 3`\n",
    "4. **No Mode:** All values appear with equal frequency, `[1, 2, 3, 4, 5] → No mode`\n",
    "\n"
   ]
  },
  {
   "cell_type": "markdown",
   "id": "40050fcf",
   "metadata": {},
   "source": [
    "## Implementation"
   ]
  },
  {
   "cell_type": "markdown",
   "id": "74dd7ce2",
   "metadata": {},
   "source": [
    "### 1. Using Statistics Module"
   ]
  },
  {
   "cell_type": "code",
   "execution_count": 1,
   "id": "ec677d26",
   "metadata": {},
   "outputs": [
    {
     "name": "stdout",
     "output_type": "stream",
     "text": [
      "Mode of [1, 2, 2, 3, 4, 4, 4, 5]: 4\n",
      "Multimode of [1, 2, 2, 3, 4, 4, 4, 5]: [4]\n",
      "Multimode of [1, 2, 2, 3, 3, 4]: [2, 3]\n",
      "Multimode of [1, 2, 3, 4, 5]: [1, 2, 3, 4, 5]\n"
     ]
    }
   ],
   "source": [
    "import statistics\n",
    "from statistics import mode, multimode\n",
    "\n",
    "# Basic mode calculation\n",
    "data1 = [1, 2, 2, 3, 4, 4, 4, 5]\n",
    "data2 = [1, 2, 2, 3, 3, 4]  # bimodal\n",
    "data3 = [1, 2, 3, 4, 5]     # no mode\n",
    "\n",
    "# Single mode (raises error if multiple modes)\n",
    "try:\n",
    "    mode1 = mode(data1)\n",
    "    print(f\"Mode of {data1}: {mode1}\")  # 4\n",
    "except statistics.StatisticsError as e:\n",
    "    print(f\"Error: {e}\")\n",
    "\n",
    "# Multiple modes (Python 3.8+)\n",
    "multimode1 = multimode(data1)\n",
    "multimode2 = multimode(data2)\n",
    "multimode3 = multimode(data3)\n",
    "\n",
    "print(f\"Multimode of {data1}: {multimode1}\")  # [4]\n",
    "print(f\"Multimode of {data2}: {multimode2}\")  # [2, 3]\n",
    "print(f\"Multimode of {data3}: {multimode3}\")  # [1, 2, 3, 4, 5]"
   ]
  },
  {
   "cell_type": "markdown",
   "id": "0c73fd5f",
   "metadata": {},
   "source": [
    "### 2. Using SciPy Stats Module"
   ]
  },
  {
   "cell_type": "code",
   "execution_count": 4,
   "id": "06de6856",
   "metadata": {},
   "outputs": [
    {
     "name": "stdout",
     "output_type": "stream",
     "text": [
      "Mode value: 4\n",
      "Mode count: 3\n",
      "Full result: ModeResult(mode=np.int64(4), count=np.int64(3))\n",
      "The value 4 appears 3 times\n"
     ]
    }
   ],
   "source": [
    "from scipy import stats\n",
    "import numpy as np\n",
    "\n",
    "# Numerical data with mode\n",
    "data = [1, 2, 2, 3, 4, 4, 4, 5]\n",
    "\n",
    "# Calculate mode - returns ModeResult object\n",
    "mode_result = stats.mode(data)\n",
    "\n",
    "print(f\"Mode value: {mode_result.mode}\")        # [4]\n",
    "print(f\"Mode count: {mode_result.count}\")       # [3]\n",
    "print(f\"Full result: {mode_result}\")           # ModeResult(mode=array([4]), count=array([3]))\n",
    "\n",
    "# Working with the result\n",
    "mode_value = mode_result.mode\n",
    "mode_count = mode_result.count\n",
    "print(f\"The value {mode_value} appears {mode_count} times\")"
   ]
  },
  {
   "cell_type": "markdown",
   "id": "02568112",
   "metadata": {},
   "source": [
    "### 3. Using pandas (for Data Analysis)"
   ]
  },
  {
   "cell_type": "code",
   "execution_count": 5,
   "id": "ad3400dc",
   "metadata": {},
   "outputs": [
    {
     "name": "stdout",
     "output_type": "stream",
     "text": [
      "DataFrame:\n",
      "  product_category  price  customer_rating\n",
      "0      Electronics    100                4\n",
      "1         Clothing     50                5\n",
      "2      Electronics    150                4\n",
      "3            Books     30                3\n",
      "4      Electronics    120                4\n",
      "5         Clothing     45                5\n",
      "\n",
      "Most common product category: ['Electronics']\n",
      "Most common rating: [4]\n",
      "\n",
      "Modes for each column:\n",
      "  product_category  price  customer_rating\n",
      "0      Electronics     30              4.0\n",
      "1              NaN     45              NaN\n",
      "2              NaN     50              NaN\n",
      "3              NaN    100              NaN\n",
      "4              NaN    120              NaN\n",
      "5              NaN    150              NaN\n"
     ]
    }
   ],
   "source": [
    "import pandas as pd\n",
    "import numpy as np\n",
    "\n",
    "# Create a DataFrame with mixed data types\n",
    "data = {\n",
    "    'product_category': ['Electronics', 'Clothing', 'Electronics', 'Books', 'Electronics', 'Clothing'],\n",
    "    'price': [100, 50, 150, 30, 120, 45],\n",
    "    'customer_rating': [4, 5, 4, 3, 4, 5]\n",
    "}\n",
    "df = pd.DataFrame(data)\n",
    "\n",
    "print(\"DataFrame:\")\n",
    "print(df)\n",
    "\n",
    "# Mode for categorical data\n",
    "category_mode = df['product_category'].mode()\n",
    "print(f\"\\nMost common product category: {category_mode.values}\")  # ['Electronics']\n",
    "\n",
    "# Mode for numerical data\n",
    "rating_mode = df['customer_rating'].mode()\n",
    "print(f\"Most common rating: {rating_mode.values}\")  # [4]\n",
    "\n",
    "# Mode for entire DataFrame (returns mode for each column)\n",
    "df_modes = df.mode()\n",
    "print(\"\\nModes for each column:\")\n",
    "print(df_modes)"
   ]
  },
  {
   "cell_type": "markdown",
   "id": "14fccaea",
   "metadata": {},
   "source": [
    "## Real-World Examples"
   ]
  },
  {
   "cell_type": "markdown",
   "id": "907806b4",
   "metadata": {},
   "source": [
    "### 1. Customer Preferences (Categorical Data)"
   ]
  },
  {
   "cell_type": "code",
   "execution_count": 6,
   "id": "cbefa6ec",
   "metadata": {},
   "outputs": [
    {
     "name": "stdout",
     "output_type": "stream",
     "text": [
      "Color Preferences:\n",
      "Red: 4 votes (40.0%)\n",
      "Blue: 3 votes (30.0%)\n",
      "Green: 2 votes (20.0%)\n",
      "Yellow: 1 votes (10.0%)\n",
      "\n",
      "Most popular color: Red\n",
      "Mode(s): ['Red']\n"
     ]
    }
   ],
   "source": [
    "import pandas as pd\n",
    "from collections import Counter\n",
    "\n",
    "# Customer favorite colors\n",
    "colors = ['Red', 'Blue', 'Green', 'Blue', 'Red', 'Red', 'Yellow', 'Blue', 'Red', 'Green']\n",
    "\n",
    "# Using Counter for frequency analysis\n",
    "color_counts = Counter(colors)\n",
    "most_common = color_counts.most_common()\n",
    "\n",
    "print(\"Color Preferences:\")\n",
    "for color, count in most_common:\n",
    "    percentage = (count / len(colors)) * 100\n",
    "    print(f\"{color}: {count} votes ({percentage:.1f}%)\")\n",
    "\n",
    "# Get the mode\n",
    "mode_color = max(color_counts, key=color_counts.get)\n",
    "print(f\"\\nMost popular color: {mode_color}\")\n",
    "\n",
    "# Using pandas\n",
    "color_series = pd.Series(colors)\n",
    "mode_result = color_series.mode()\n",
    "print(f\"Mode(s): {list(mode_result)}\")"
   ]
  },
  {
   "cell_type": "markdown",
   "id": "924ba931",
   "metadata": {},
   "source": [
    "### 2. Sales Data Analysis"
   ]
  },
  {
   "cell_type": "code",
   "execution_count": 9,
   "id": "a83dad7c",
   "metadata": {},
   "outputs": [
    {
     "name": "stdout",
     "output_type": "stream",
     "text": [
      "Sales Data Summary:\n",
      "Total records: 100\n",
      "\n",
      "Most frequent values:\n",
      "product: Headphones\n",
      "store: Store_C\n",
      "day_of_week: Mon\n",
      "\n",
      "Most popular product by store:\n",
      "store\n",
      "Store_A    Headphones\n",
      "Store_B        Laptop\n",
      "Store_C    Headphones\n",
      "Name: product, dtype: object\n"
     ]
    }
   ],
   "source": [
    "import pandas as pd\n",
    "import numpy as np\n",
    "\n",
    "# Create sales data\n",
    "np.random.seed(42)\n",
    "sales_data = {\n",
    "    'product': np.random.choice(['Laptop', 'Phone', 'Tablet', 'Headphones'], 100),\n",
    "    'store': np.random.choice(['Store_A', 'Store_B', 'Store_C'], 100),\n",
    "    'day_of_week': np.random.choice(['Mon', 'Tue', 'Wed', 'Thu', 'Fri', 'Sat'], 100)\n",
    "}\n",
    "\n",
    "df_sales = pd.DataFrame(sales_data)\n",
    "\n",
    "print(\"Sales Data Summary:\")\n",
    "print(f\"Total records: {len(df_sales)}\")\n",
    "print(\"\\nMost frequent values:\")\n",
    "\n",
    "# Multiple modes analysis\n",
    "for column in df_sales.columns:\n",
    "    modes = df_sales[column].mode()\n",
    "    if len(modes) == 1:\n",
    "        print(f\"{column}: {modes[0]}\")\n",
    "    else:\n",
    "        print(f\"{column}: {list(modes)} (multiple modes)\")\n",
    "\n",
    "# Grouped mode analysis\n",
    "print(\"\\nMost popular product by store:\")\n",
    "store_product_mode = df_sales.groupby('store')['product'].agg(lambda x: x.mode().iloc[0])\n",
    "print(store_product_mode)"
   ]
  },
  {
   "cell_type": "markdown",
   "id": "b37326fa",
   "metadata": {},
   "source": [
    "### 3. Survey Response Analysis"
   ]
  },
  {
   "cell_type": "code",
   "execution_count": 14,
   "id": "c3cf24ff",
   "metadata": {},
   "outputs": [
    {
     "name": "stdout",
     "output_type": "stream",
     "text": [
      "Survey Results:\n",
      "Mean rating: 3.70\n",
      "Median rating: 4.0\n",
      "Mode rating: 4 (appears 8 times)\n"
     ]
    },
    {
     "data": {
      "image/png": "[encoded data removed]",
      "text/plain": [
       "<Figure size 1000x600 with 1 Axes>"
      ]
     },
     "metadata": {},
     "output_type": "display_data"
    }
   ],
   "source": [
    "import pandas as pd\n",
    "from collections import Counter\n",
    "import matplotlib.pyplot as plt\n",
    "\n",
    "# Survey responses (Likert scale: 1-Strongly Disagree to 5-Strongly Agree)\n",
    "responses = [1, 2, 3, 4, 5, 4, 3, 4, 5, 5, 4, 3, 4, 5, 4, 3, 2, 4, 5, 4]\n",
    "\n",
    "# Frequency analysis\n",
    "response_counts = Counter(responses)\n",
    "response_df = pd.DataFrame({\n",
    "    'Rating': list(response_counts.keys()),\n",
    "    'Count': list(response_counts.values())\n",
    "}).sort_values('Rating')\n",
    "\n",
    "# Calculate statistics\n",
    "mean_rating = np.mean(responses)\n",
    "median_rating = np.median(responses)\n",
    "mode_rating = stats.mode(responses)\n",
    "\n",
    "print(\"Survey Results:\")\n",
    "print(f\"Mean rating: {mean_rating:.2f}\")\n",
    "print(f\"Median rating: {median_rating}\")\n",
    "print(f\"Mode rating: {mode_rating.mode} (appears {mode_rating.count} times)\")\n",
    "\n",
    "# Visualization\n",
    "plt.figure(figsize=(10, 6))\n",
    "bars = plt.bar(response_df['Rating'], response_df['Count'], color='lightcoral', alpha=0.7)\n",
    "plt.axvline(mode_rating.mode, color='red', linestyle='--', linewidth=2, label=f'Mode: {mode_rating.mode}')\n",
    "plt.xlabel('Rating (1-5)')\n",
    "plt.ylabel('Frequency')\n",
    "plt.title('Survey Response Distribution')\n",
    "plt.legend()\n",
    "\n",
    "# Add value labels on bars\n",
    "for bar in bars:\n",
    "    height = bar.get_height()\n",
    "    plt.text(bar.get_x() + bar.get_width()/2., height,\n",
    "             f'{int(height)}', ha='center', va='bottom')\n",
    "\n",
    "plt.show()"
   ]
  },
  {
   "cell_type": "markdown",
   "id": "6308ed66",
   "metadata": {},
   "source": [
    "### 4. Handling Multiple Modes"
   ]
  },
  {
   "cell_type": "code",
   "execution_count": 15,
   "id": "230da7c1",
   "metadata": {},
   "outputs": [
    {
     "name": "stdout",
     "output_type": "stream",
     "text": [
      "SciPy mode: 4\n",
      "Pandas modes: [4]\n",
      "Manual mode calculation: [4] (appear 3 times each)\n",
      "Binned modes: [Interval(1.825, 2.55, closed='right'), Interval(2.55, 3.275, closed='right')]\n"
     ]
    }
   ],
   "source": [
    "import pandas as pd\n",
    "from scipy import stats\n",
    "import numpy as np\n",
    "\n",
    "# Dataset with multiple modes\n",
    "data_multimodal = [1, 1, 2, 2, 3, 3, 4, 4, 4, 5]\n",
    "\n",
    "# Different approaches to handle multiple modes\n",
    "\n",
    "# 1. Using statistics.multimode (Python 3.8+)\n",
    "try:\n",
    "    all_modes = stats.mode(data_multimodal)\n",
    "    print(f\"SciPy mode: {all_modes.mode}\")  # Only returns one mode\n",
    "except:\n",
    "    print(\"SciPy returns only one mode even with multiple\")\n",
    "\n",
    "# 2. Using pandas (returns all modes)\n",
    "series_multimodal = pd.Series(data_multimodal)\n",
    "pandas_modes = series_multimodal.mode()\n",
    "print(f\"Pandas modes: {list(pandas_modes)}\")\n",
    "\n",
    "# 3. Manual approach using Counter\n",
    "from collections import Counter\n",
    "\n",
    "def find_all_modes(data):\n",
    "    counter = Counter(data)\n",
    "    max_count = max(counter.values())\n",
    "    modes = [value for value, count in counter.items() if count == max_count]\n",
    "    return modes, max_count\n",
    "\n",
    "modes, max_count = find_all_modes(data_multimodal)\n",
    "print(f\"Manual mode calculation: {modes} (appear {max_count} times each)\")\n",
    "\n",
    "# 4. For continuous data - binning approach\n",
    "continuous_data = pd.Series([1.1, 1.2, 2.1, 2.1, 2.2, 3.0, 3.1, 3.1, 4.0])\n",
    "binned_modes = pd.cut(continuous_data, bins=4).mode()\n",
    "print(f\"Binned modes: {list(binned_modes)}\")"
   ]
  },
  {
   "cell_type": "markdown",
   "id": "2dfc5195",
   "metadata": {},
   "source": [
    "## Advanced Usage"
   ]
  },
  {
   "cell_type": "markdown",
   "id": "cad4e4b7",
   "metadata": {},
   "source": [
    "### 1. Mode with Grouped Data"
   ]
  },
  {
   "cell_type": "code",
   "execution_count": 16,
   "id": "eae13e62",
   "metadata": {},
   "outputs": [
    {
     "name": "stdout",
     "output_type": "stream",
     "text": [
      "Original Data:\n",
      "    department programming_language\n",
      "0           HR               Python\n",
      "1           HR               Python\n",
      "2           HR                 Java\n",
      "3  Engineering               Python\n",
      "4  Engineering           JavaScript\n",
      "5  Engineering               Python\n",
      "6        Sales                 Java\n",
      "7        Sales               Python\n",
      "\n",
      "Most common programming language by department:\n",
      "department\n",
      "Engineering    Python\n",
      "HR             Python\n",
      "Sales            Java\n",
      "Name: programming_language, dtype: object\n"
     ]
    }
   ],
   "source": [
    "import pandas as pd\n",
    "\n",
    "# Sample data with groups\n",
    "data = {\n",
    "    'department': ['HR', 'HR', 'HR', 'Engineering', 'Engineering', 'Engineering', 'Sales', 'Sales'],\n",
    "    'programming_language': ['Python', 'Python', 'Java', 'Python', 'JavaScript', 'Python', 'Java', 'Python']\n",
    "}\n",
    "\n",
    "df_tech = pd.DataFrame(data)\n",
    "\n",
    "print(\"Original Data:\")\n",
    "print(df_tech)\n",
    "\n",
    "# Mode by group\n",
    "department_modes = df_tech.groupby('department')['programming_language'].agg(\n",
    "    lambda x: x.mode().iloc[0] if not x.mode().empty else 'No mode'\n",
    ")\n",
    "\n",
    "print(\"\\nMost common programming language by department:\")\n",
    "print(department_modes)"
   ]
  },
  {
   "cell_type": "markdown",
   "id": "51c33ed3",
   "metadata": {},
   "source": [
    "### 2. Mode with DateTime Data"
   ]
  },
  {
   "cell_type": "code",
   "execution_count": 18,
   "id": "7228e485",
   "metadata": {},
   "outputs": [
    {
     "name": "stdout",
     "output_type": "stream",
     "text": [
      "Sales occurred on 7 different days\n",
      "Most common sales day(s): ['جمعرات']\n"
     ]
    }
   ],
   "source": [
    "import pandas as pd\n",
    "\n",
    "# Most common day of the week for sales\n",
    "dates = pd.date_range('2024-01-01', '2024-03-31', freq='D')\n",
    "sales_days = np.random.choice(dates, 50)  # Random sales dates\n",
    "\n",
    "# Convert to day names\n",
    "day_names = [pd.Timestamp(day).strftime('%A') for day in sales_days]\n",
    "\n",
    "day_series = pd.Series(day_names)\n",
    "most_common_day = day_series.mode()\n",
    "\n",
    "print(f\"Sales occurred on {len(set(day_names))} different days\")\n",
    "print(f\"Most common sales day(s): {list(most_common_day)}\")"
   ]
  },
  {
   "cell_type": "markdown",
   "id": "fea7f90d",
   "metadata": {},
   "source": [
    "\n",
    "#### Key Python Libraries Summary\n",
    "\n",
    "| Library      | Function(s)                          | Best For                                         |\n",
    "|--------------|--------------------------------------|--------------------------------------------------|\n",
    "| Statistics   | `mode()`, `multimode()`              | Basic mode calculations, educational use         |\n",
    "| SciPy        | `stats.mode()`                       | Numerical arrays, returns count as well          |\n",
    "| pandas       | `Series.mode()`, `DataFrame.mode()`  | Data analysis, handles multiple modes well       |\n",
    "| Collections  | `Counter().most_common()`            | Frequency analysis, custom mode logic            |\n",
    "\n",
    "\n",
    "#### Practical Tips\n",
    "- **For categorical data:** Always use mode instead of mean/median\n",
    "- **Check for multiple modes:** They can reveal important patterns in your data\n",
    "- **With continuous data:** Consider binning first to find ranges with highest frequency\n",
    "- **In machine learning:** Mode is used for imputing missing categorical values\n",
    "- **For business insights:** Mode reveals the most common customer behavior or preference\n",
    "\n",
    "The mode is particularly valuable when you need to understand what's \"typical\" or \"most popular\" in your data, especially with categorical information!\n",
    "\n"
   ]
  },
  {
   "cell_type": "markdown",
   "id": "78b5a676",
   "metadata": {},
   "source": []
  }
 ],
 "metadata": {
  "kernelspec": {
   "display_name": "py3_13_5",
   "language": "python",
   "name": "python3"
  },
  "language_info": {
   "codemirror_mode": {
    "name": "ipython",
    "version": 3
   },
   "file_extension": ".py",
   "mimetype": "text/x-python",
   "name": "python",
   "nbconvert_exporter": "python",
   "pygments_lexer": "ipython3",
   "version": "3.13.5"
  }
 },
 "nbformat": 4,
 "nbformat_minor": 5
}
