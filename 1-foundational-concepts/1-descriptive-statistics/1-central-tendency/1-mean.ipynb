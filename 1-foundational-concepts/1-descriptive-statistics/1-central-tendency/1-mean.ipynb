{
 "cells": [
  {
   "cell_type": "markdown",
   "id": "8e75c28f",
   "metadata": {},
   "source": [
    "# Mean\n",
    "The mean, often referred to as the average, is a measure of central tendency that is calculated by summing all the values in a dataset and dividing by the number of values. It is a useful statistic for understanding the overall trend of the data.\n",
    "\n",
    "## Types of Mean"
   ]
  },
  {
   "cell_type": "code",
   "execution_count": 1,
   "id": "00e028f7",
   "metadata": {},
   "outputs": [],
   "source": [
    "import numpy as np\n",
    "import statistics\n",
    "from scipy import stats"
   ]
  },
  {
   "cell_type": "markdown",
   "id": "4881d09c",
   "metadata": {},
   "source": [
    "### 1. Arithmetic Mean\n",
    "The arithmetic mean is the most common type of mean. It is calculated using the formula:\n",
    "$$\n",
    "\\text{Arithmetic Mean} = \\frac{\\sum_{i=1}^{n} x_i}{n}\n",
    "$$\n",
    "\n",
    "where \\( x_i \\) represents each value in the dataset and \\( n \\) is the total number of values.\n",
    "\n",
    "$$\n",
    "AM = \\frac{(x₁ + x₂ + ... + xₙ)}{n}\n",
    "$$\n",
    "\n",
    "**When to use it:**\n",
    "\n",
    "- General purpose averaging for data on an interval or ratio scale\n",
    "- When values are independent of each other\n",
    "- For data without extreme outliers\n",
    "- Examples: Average test scores, average temperature, average sales per day\n"
   ]
  },
  {
   "cell_type": "code",
   "execution_count": 2,
   "id": "906aceb6",
   "metadata": {},
   "outputs": [
    {
     "name": "stdout",
     "output_type": "stream",
     "text": [
      "NumPy Arithmetic Mean: 6.0\n",
      "Statistics Module Mean: 6\n",
      "Manual Arithmetic Mean: 6.0\n"
     ]
    }
   ],
   "source": [
    "data = [2, 4, 6, 8, 10]\n",
    "\n",
    "# Using NumPy\n",
    "am_numpy = np.mean(data)\n",
    "print(f\"NumPy Arithmetic Mean: {am_numpy}\")  # 6.0\n",
    "\n",
    "# Using statistics module\n",
    "am_stats = statistics.mean(data)\n",
    "print(f\"Statistics Module Mean: {am_stats}\")  # 6.0\n",
    "\n",
    "# Manual calculation\n",
    "am_manual = sum(data) / len(data)\n",
    "print(f\"Manual Arithmetic Mean: {am_manual}\")  # 6.0\n"
   ]
  },
  {
   "cell_type": "markdown",
   "id": "25e6272c",
   "metadata": {},
   "source": [
    "### 2. Geometric Mean\n",
    "The nth of the product of n numbers. It is calculated using the formula:\n",
    "\n",
    "$$\n",
    "\\text{Geometric Mean} = \\left( \\prod_{i=1}^{n} x_i \\right)^{\\frac{1}{n}}\n",
    "$$\n",
    "\n",
    "where \\( x_i \\) represents each value in the dataset and \\( n \\) is the total number of values.\n",
    "\n",
    "$$\n",
    "GM = (x₁ * x₂ * ... * xₙ)^{(1/n)}\n",
    "$$\n",
    "\n",
    "**When to use it:**\n",
    "- Growth rates and compound interest\n",
    "- Data that are multiplicative rather than additive\n",
    "- Ratios and percentages\n",
    "- When data spans multiple orders of magnitude\n",
    "- Examples: Investment returns, population growth, bacterial growth"
   ]
  },
  {
   "cell_type": "code",
   "execution_count": 3,
   "id": "ca737b40",
   "metadata": {},
   "outputs": [
    {
     "name": "stdout",
     "output_type": "stream",
     "text": [
      "SciPy Geometric Mean: 1.0639\n",
      "Manual Geometric Mean: 1.0639\n"
     ]
    }
   ],
   "source": [
    "# Growth rates (e.g., 10% growth = 1.10, 5% loss = 0.95)\n",
    "growth_rates = [1.10, 1.05, 0.95, 1.15, 1.08]\n",
    "\n",
    "# Using SciPy\n",
    "gm_scipy = stats.gmean(growth_rates)\n",
    "print(f\"SciPy Geometric Mean: {gm_scipy:.4f}\")  # 1.0651\n",
    "\n",
    "# Using manual calculation\n",
    "product = np.prod(growth_rates)\n",
    "gm_manual = product ** (1/len(growth_rates))\n",
    "print(f\"Manual Geometric Mean: {gm_manual:.4f}\")  # 1.0651\n",
    "\n",
    "# What this means: Average growth rate is 6.51% per period"
   ]
  },
  {
   "cell_type": "markdown",
   "id": "91d0a6c5",
   "metadata": {},
   "source": [
    "### 3. Harmonic Mean\n",
    "The reciprocal of the arithmetic mean of the reciprocals of the data points.\n",
    "\n",
    "$$\n",
    "\\text{Harmonic Mean} = \\frac{n}{\\sum_{i=1}^{n} \\frac{1}{x_i}}\n",
    "$$\n",
    "where \\( x_i \\) represents each value in the dataset and \\( n \\) is the total number of values.\n",
    "\n",
    "$$\n",
    "HM = \\frac{n}{(1/x₁ + 1/x₂ + ... + 1/xₙ)}\n",
    "$$\n",
    "\n",
    "**When to use it:**\n",
    "- Rates and ratios\n",
    "- Average speeds when distances are equal\n",
    "- Precision/Recall in machine learning (F1-score)\n",
    "- Data where time is involved\n",
    "- Examples: Average speed, parallel resistance, P/E ratios in finance"
   ]
  },
  {
   "cell_type": "code",
   "execution_count": 5,
   "id": "842aeddd",
   "metadata": {},
   "outputs": [
    {
     "name": "stdout",
     "output_type": "stream",
     "text": [
      "SciPy Harmonic Mean: 66.24\n",
      "Statistics Harmonic Mean: 66.24\n"
     ]
    }
   ],
   "source": [
    "# Speeds for equal distances (km/h)\n",
    "speeds = [60, 80, 40, 77, 120]\n",
    "\n",
    "# Using SciPy\n",
    "hm_scipy = stats.hmean(speeds)\n",
    "print(f\"SciPy Harmonic Mean: {hm_scipy:.2f}\")  # 80.00\n",
    "\n",
    "# Using statistics module\n",
    "hm_stats = statistics.harmonic_mean(speeds)\n",
    "print(f\"Statistics Harmonic Mean: {hm_stats:.2f}\")  # 80.00\n",
    "\n",
    "# Why harmonic mean for speeds?\n",
    "# If you travel 3 equal distances at these speeds,\n",
    "# harmonic mean gives the true average speed"
   ]
  },
  {
   "cell_type": "markdown",
   "id": "5f0b7030",
   "metadata": {},
   "source": [
    "### 4. Weighted Mean\n",
    "An arithmetic mean where each value has a specific weight.\n",
    "\n",
    "$$\n",
    "\\text{Weighted Mean} = \\frac{\\sum_{i=1}^{n} w_i \\cdot x_i}{\\sum_{i=1}^{n} w_i}\n",
    "$$\n",
    "\n",
    "where \\( w_i \\) represents the weight for each value \\( x_i \\).\n",
    "\n",
    "$$\n",
    "WM = \\frac{(w₁*x₁ + w₂*x₂ + ... + wₙ*xₙ)}{(w₁ + w₂ + ... + wₙ)}\n",
    "$$\n",
    "\n",
    "**When to use it:**\n",
    "- When some values are more important than others\n",
    "- GPA calculation (credits as weights)\n",
    "- Stock indices (market cap as weights)\n",
    "- Survey data with different sample sizes\n",
    "- Examples: Course grades with credit hours, portfolio returns\n"
   ]
  },
  {
   "cell_type": "code",
   "execution_count": 6,
   "id": "65a1c15b",
   "metadata": {},
   "outputs": [
    {
     "name": "stdout",
     "output_type": "stream",
     "text": [
      "NumPy Weighted Mean: 87.42\n",
      "Manual Weighted Mean: 87.42\n"
     ]
    }
   ],
   "source": [
    "# Student grades and corresponding credit hours\n",
    "grades = [85, 92, 78, 90]\n",
    "credits = [3, 4, 2, 3]  # weights\n",
    "\n",
    "# Using NumPy\n",
    "wm_numpy = np.average(grades, weights=credits)\n",
    "print(f\"NumPy Weighted Mean: {wm_numpy:.2f}\")  # 87.42\n",
    "\n",
    "# Manual calculation\n",
    "weighted_sum = sum(g * w for g, w in zip(grades, credits))\n",
    "total_weights = sum(credits)\n",
    "wm_manual = weighted_sum / total_weights\n",
    "print(f\"Manual Weighted Mean: {wm_manual:.2f}\")  # 87.42"
   ]
  },
  {
   "cell_type": "markdown",
   "id": "c88b97f6",
   "metadata": {},
   "source": [
    "### 5. Trimmed Mean\n",
    "An arithmetic mean calculated after removing a percentage of extreme values from both ends.\n",
    "\n",
    "$$\n",
    "\\text{Trimmed Mean} = \\frac{\\sum_{i=k+1}^{n-k} x_i}{n - 2k}\n",
    "$$\n",
    "where \\( k \\) is the number of values trimmed from each end.\n",
    "\n",
    "$$TM = \\frac{(x_{k+1} + x_{k+2} + ... + x_{n-k})}{(n - 2k)}$$\n",
    "\n",
    "**When to use it:**\n",
    "- Data with outliers that shouldn't be completely ignored\n",
    "- Robust statistics when you want to reduce outlier influence\n",
    "- Economic data (like Olympic judging)\n",
    "- When data might have measurement errors\n",
    "- Examples: Average income with outliers removed, average test scores excluding extreme values"
   ]
  },
  {
   "cell_type": "code",
   "execution_count": 7,
   "id": "98ec02c5",
   "metadata": {},
   "outputs": [
    {
     "name": "stdout",
     "output_type": "stream",
     "text": [
      "SciPy Trimmed Mean: 21.50\n",
      "Regular Mean: 28.70\n"
     ]
    }
   ],
   "source": [
    "# Data with potential outliers\n",
    "data_with_outliers = [15, 18, 19, 20, 21, 22, 23, 24, 25, 100]\n",
    "\n",
    "# Using SciPy (trim 10% from each end)\n",
    "trimmed_scipy = stats.trim_mean(data_with_outliers, 0.1)\n",
    "print(f\"SciPy Trimmed Mean: {trimmed_scipy:.2f}\")  # 21.75\n",
    "\n",
    "# Compare with regular mean\n",
    "regular_mean = np.mean(data_with_outliers)\n",
    "print(f\"Regular Mean: {regular_mean:.2f}\")  # 26.70\n",
    "\n",
    "# The trimmed mean is much more representative of the central data!"
   ]
  },
  {
   "cell_type": "markdown",
   "id": "196d3e63",
   "metadata": {},
   "source": [
    "## Comparison Example: When to Use Which Mean\n"
   ]
  },
  {
   "cell_type": "code",
   "execution_count": 10,
   "id": "96875279",
   "metadata": {},
   "outputs": [
    {
     "name": "stdout",
     "output_type": "stream",
     "text": [
      "Investment Returns Analysis:\n",
      "Arithmetic Mean: 1.050\n",
      "Geometric Mean: 1.032\n",
      "Harmonic Mean: 1.014\n",
      "Actual growth over 3 periods: 1.100\n",
      "Geometric mean applied 3 times: 1.100\n"
     ]
    }
   ],
   "source": [
    "# Example: Investment returns over 3 years\n",
    "returns = [1.10, 1.25, 0.80]  # 10% gain, 25% gain, 20% loss\n",
    "\n",
    "print(\"Investment Returns Analysis:\")\n",
    "print(f\"Arithmetic Mean: {np.mean(returns):.3f}\")\n",
    "print(f\"Geometric Mean: {stats.gmean(returns):.3f}\")\n",
    "print(f\"Harmonic Mean: {stats.hmean(returns):.3f}\")\n",
    "\n",
    "# Which is correct for investment growth?\n",
    "final_value = 1.0\n",
    "for r in returns:\n",
    "    final_value *= r\n",
    "    \n",
    "print(f\"Actual growth over 3 periods: {final_value:.3f}\")\n",
    "print(f\"Geometric mean applied 3 times: {stats.gmean(returns)**3:.3f}\")"
   ]
  },
  {
   "cell_type": "code",
   "execution_count": null,
   "id": "0e3fc3a1",
   "metadata": {},
   "outputs": [],
   "source": []
  }
 ],
 "metadata": {
  "kernelspec": {
   "display_name": "py3_13_5",
   "language": "python",
   "name": "python3"
  },
  "language_info": {
   "codemirror_mode": {
    "name": "ipython",
    "version": 3
   },
   "file_extension": ".py",
   "mimetype": "text/x-python",
   "name": "python",
   "nbconvert_exporter": "python",
   "pygments_lexer": "ipython3",
   "version": "3.13.5"
  }
 },
 "nbformat": 4,
 "nbformat_minor": 5
}
