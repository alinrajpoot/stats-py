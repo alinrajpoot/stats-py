{
 "cells": [
  {
   "cell_type": "markdown",
   "id": "8da582c5",
   "metadata": {},
   "source": [
    "# Median\n",
    "The median is the value that separates the higher half from the lower half of a dataset when it's sorted in order. It's the middle point of your data.\n",
    "\n",
    "- Robust to outliers: Unlike the mean, the median is not affected by extreme values\n",
    "- Position-based: It only depends on the order of values, not their magnitude\n",
    "- True \"middle\" value: Represents the 50th percentile of your data\n",
    "\n",
    "**When to Choose Median Over Mean**\n",
    "- Income data - usually right-skewed\n",
    "- House prices - few expensive outliers\n",
    "- Response times - occasional very slow responses\n",
    "- Customer ratings - ordinal data\n",
    "- Any skewed distribution where outliers would distort the mean\n",
    "\n",
    "The median gives you a more realistic \"typical\" value when your data isn't perfectly symmetrical!\n",
    "\n"
   ]
  },
  {
   "cell_type": "markdown",
   "id": "67662176",
   "metadata": {},
   "source": [
    "## Implementation\n",
    "You can calculate the median using libraries like NumPy, pandas or the built-in statistics module in Python.\n"
   ]
  },
  {
   "cell_type": "markdown",
   "id": "2d4aaba7",
   "metadata": {},
   "source": [
    "### 1. Using NumPy"
   ]
  },
  {
   "cell_type": "code",
   "execution_count": 1,
   "id": "83df59f0",
   "metadata": {},
   "outputs": [
    {
     "name": "stdout",
     "output_type": "stream",
     "text": [
      "Data: [25, 30, 35, 40, 1000]\n",
      "NumPy Median: 35.0\n",
      "NumPy Mean: 226.00\n",
      "Difference: 191.00\n"
     ]
    }
   ],
   "source": [
    "import numpy as np\n",
    "\n",
    "# Basic median calculation\n",
    "data = [25, 30, 35, 40, 1000]  # Notice the outlier 1000\n",
    "median_np = np.median(data)\n",
    "mean_np = np.mean(data)\n",
    "\n",
    "print(f\"Data: {data}\")\n",
    "print(f\"NumPy Median: {median_np}\")  # 35.0\n",
    "print(f\"NumPy Mean: {mean_np:.2f}\")  # 226.00\n",
    "print(f\"Difference: {mean_np - median_np:.2f}\")  # 191.00\n"
   ]
  },
  {
   "cell_type": "markdown",
   "id": "94e512af",
   "metadata": {},
   "source": [
    "### 2. Using pandas (for DataFrames/Series)"
   ]
  },
  {
   "cell_type": "code",
   "execution_count": 2,
   "id": "4fae62ca",
   "metadata": {},
   "outputs": [
    {
     "name": "stdout",
     "output_type": "stream",
     "text": [
      "Original DataFrame:\n",
      "    department  salary\n",
      "0  Engineering   85000\n",
      "1    Marketing   62000\n",
      "2        Sales   58000\n",
      "3           HR   55000\n",
      "4  Engineering  250000\n",
      "\n",
      "Median salary by department:\n",
      "department\n",
      "Engineering    167500.0\n",
      "HR              55000.0\n",
      "Marketing       62000.0\n",
      "Sales           58000.0\n",
      "Name: salary, dtype: float64\n",
      "\n",
      "Mean salary by department:\n",
      "department\n",
      "Engineering    167500.0\n",
      "HR              55000.0\n",
      "Marketing       62000.0\n",
      "Sales           58000.0\n",
      "Name: salary, dtype: float64\n"
     ]
    }
   ],
   "source": [
    "import pandas as pd\n",
    "import numpy as np\n",
    "\n",
    "# Create a DataFrame with salary data\n",
    "data = {\n",
    "    'department': ['Engineering', 'Marketing', 'Sales', 'HR', 'Engineering'],\n",
    "    'salary': [85000, 62000, 58000, 55000, 250000]  # CEO in Engineering\n",
    "}\n",
    "df = pd.DataFrame(data)\n",
    "\n",
    "print(\"Original DataFrame:\")\n",
    "print(df)\n",
    "\n",
    "# Calculate median by department\n",
    "median_by_dept = df.groupby('department')['salary'].median()\n",
    "mean_by_dept = df.groupby('department')['salary'].mean()\n",
    "\n",
    "print(\"\\nMedian salary by department:\")\n",
    "print(median_by_dept)\n",
    "\n",
    "print(\"\\nMean salary by department:\")\n",
    "print(mean_by_dept)\n",
    "\n",
    "# The Engineering department shows the difference clearly!"
   ]
  },
  {
   "cell_type": "markdown",
   "id": "6a225c89",
   "metadata": {},
   "source": [
    "### 3. Using statistics"
   ]
  },
  {
   "cell_type": "code",
   "execution_count": 3,
   "id": "ac1906fb",
   "metadata": {},
   "outputs": [
    {
     "name": "stdout",
     "output_type": "stream",
     "text": [
      "Statistics Median: 35\n",
      "Median (even count): 32.5\n",
      "Low median: 2\n",
      "High median: 3\n",
      "Regular median: 2.5\n"
     ]
    }
   ],
   "source": [
    "import statistics\n",
    "\n",
    "data = [25, 30, 35, 40, 1000]\n",
    "\n",
    "# Basic median\n",
    "median_stats = statistics.median(data)\n",
    "print(f\"Statistics Median: {median_stats}\")  # 35\n",
    "\n",
    "# For even number of elements\n",
    "data_even = [25, 30, 35, 40]\n",
    "median_even = statistics.median(data_even)\n",
    "print(f\"Median (even count): {median_even}\")  # 32.5\n",
    "\n",
    "# Low and high median functions\n",
    "data_even = [1, 2, 3, 4]\n",
    "low_median = statistics.median_low(data_even)   # 2\n",
    "high_median = statistics.median_high(data_even) # 3\n",
    "regular_median = statistics.median(data_even)   # 2.5\n",
    "\n",
    "print(f\"Low median: {low_median}\")\n",
    "print(f\"High median: {high_median}\")\n",
    "print(f\"Regular median: {regular_median}\")"
   ]
  },
  {
   "cell_type": "markdown",
   "id": "fb1655ca",
   "metadata": {},
   "source": [
    "## Advanced Usage"
   ]
  },
  {
   "cell_type": "markdown",
   "id": "1ebdc4e8",
   "metadata": {},
   "source": [
    "### 1. Handling Missing Data"
   ]
  },
  {
   "cell_type": "code",
   "execution_count": 11,
   "id": "794ebf9c",
   "metadata": {},
   "outputs": [
    {
     "name": "stdout",
     "output_type": "stream",
     "text": [
      "Data with NaN: [1, 2, 3, nan, 5, 6, nan, 8]\n",
      "Median (ignoring NaN): 4.0\n"
     ]
    }
   ],
   "source": [
    "import pandas as pd\n",
    "import numpy as np\n",
    "\n",
    "# Data with missing values\n",
    "data_with_nan = [1, 2, 3, np.nan, 5, 6, np.nan, 8]\n",
    "\n",
    "# pandas automatically handles NaN values\n",
    "series = pd.Series(data_with_nan)\n",
    "median_with_nan = series.median()\n",
    "\n",
    "print(f\"Data with NaN: {data_with_nan}\")\n",
    "print(f\"Median (ignoring NaN): {median_with_nan}\")  # 4.0\n"
   ]
  },
  {
   "cell_type": "markdown",
   "id": "1bdd017a",
   "metadata": {},
   "source": [
    "### 2. Multi-dimensional Data"
   ]
  },
  {
   "cell_type": "code",
   "execution_count": 12,
   "id": "90799a46",
   "metadata": {},
   "outputs": [
    {
     "name": "stdout",
     "output_type": "stream",
     "text": [
      "Original 2D array:\n",
      "[[  1   2   3 100]\n",
      " [  4   5   6   7]\n",
      " [  8   9  10  11]]\n",
      "\n",
      "Column-wise median: [ 4.  5.  6. 11.]\n",
      "Row-wise median: [2.5 5.5 9.5]\n"
     ]
    }
   ],
   "source": [
    "import numpy as np\n",
    "\n",
    "# 2D array example\n",
    "data_2d = np.array([\n",
    "    [1, 2, 3, 100],    # row with outlier\n",
    "    [4, 5, 6, 7],      # normal row\n",
    "    [8, 9, 10, 11]     # normal row\n",
    "])\n",
    "\n",
    "# Median along different axes\n",
    "median_axis0 = np.median(data_2d, axis=0)  # Column-wise median\n",
    "median_axis1 = np.median(data_2d, axis=1)  # Row-wise median\n",
    "\n",
    "print(\"Original 2D array:\")\n",
    "print(data_2d)\n",
    "print(f\"\\nColumn-wise median: {median_axis0}\")\n",
    "print(f\"Row-wise median: {median_axis1}\")\n"
   ]
  },
  {
   "cell_type": "code",
   "execution_count": null,
   "id": "5f1c99f8",
   "metadata": {},
   "outputs": [],
   "source": []
  }
 ],
 "metadata": {
  "kernelspec": {
   "display_name": "py3_13_5",
   "language": "python",
   "name": "python3"
  },
  "language_info": {
   "codemirror_mode": {
    "name": "ipython",
    "version": 3
   },
   "file_extension": ".py",
   "mimetype": "text/x-python",
   "name": "python",
   "nbconvert_exporter": "python",
   "pygments_lexer": "ipython3",
   "version": "3.13.5"
  }
 },
 "nbformat": 4,
 "nbformat_minor": 5
}
