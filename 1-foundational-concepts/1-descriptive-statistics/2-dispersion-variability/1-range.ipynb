{
 "cells": [
  {
   "cell_type": "markdown",
   "id": "9ac07ce5",
   "metadata": {},
   "source": [
    "# Range\n",
    "The range is the simplest measure of dispersion that shows how spread out the values in a dataset are. It represents the difference between the highest and lowest values.\n",
    "\n",
    "**Why Use Range?**\n",
    "\n",
    "Advantages:\n",
    "- Quick overview of data spread\n",
    "- Easy to interpret and explain\n",
    "- Useful for detecting outliers\n",
    "- Good for preliminary data analysis\n",
    "\n",
    "Limitations:\n",
    "- Misleading with outliers: A single extreme value can distort the picture\n",
    "- Ignores data distribution: Doesn't show how values are distributed between min and max\n",
    "- Not robust: Only uses two data points from the entire dataset\n"
   ]
  },
  {
   "cell_type": "markdown",
   "id": "d0ebab49",
   "metadata": {},
   "source": [
    "## Implementation"
   ]
  },
  {
   "cell_type": "markdown",
   "id": "8ce59eb1",
   "metadata": {},
   "source": [
    "### 1. Basic Range Calculation"
   ]
  },
  {
   "cell_type": "code",
   "execution_count": 2,
   "id": "2307f413",
   "metadata": {},
   "outputs": [
    {
     "name": "stdout",
     "output_type": "stream",
     "text": [
      "Dataset: [23, 45, 67, 34, 89, 56, 42, 12, 78, 91]\n",
      "Minimum: 12\n",
      "Maximum: 91\n",
      "Range: 79\n"
     ]
    }
   ],
   "source": [
    "# Sample dataset\n",
    "data = [23, 45, 67, 34, 89, 56, 42, 12, 78, 91]\n",
    "\n",
    "# Calculate range manually\n",
    "data_min = min(data)\n",
    "data_max = max(data)\n",
    "data_range = data_max - data_min\n",
    "\n",
    "print(f\"Dataset: {data}\")\n",
    "print(f\"Minimum: {data_min}\")\n",
    "print(f\"Maximum: {data_max}\")\n",
    "print(f\"Range: {data_range}\")  # 91 - 12 = 79"
   ]
  },
  {
   "cell_type": "markdown",
   "id": "1fbde129",
   "metadata": {},
   "source": [
    "### 2. Using NumPy"
   ]
  },
  {
   "cell_type": "code",
   "execution_count": 3,
   "id": "13ab6176",
   "metadata": {},
   "outputs": [
    {
     "name": "stdout",
     "output_type": "stream",
     "text": [
      "NumPy Min: 12\n",
      "NumPy Max: 91\n",
      "NumPy Range (ptp): 79\n",
      "Manual Range: 79\n"
     ]
    }
   ],
   "source": [
    "import numpy as np\n",
    "\n",
    "data = [23, 45, 67, 34, 89, 56, 42, 12, 78, 91]\n",
    "\n",
    "# Using NumPy functions\n",
    "data_min = np.min(data)\n",
    "data_max = np.max(data)\n",
    "data_range = np.ptp(data)  # \"peak to peak\" - equivalent to max-min\n",
    "\n",
    "print(f\"NumPy Min: {data_min}\")\n",
    "print(f\"NumPy Max: {data_max}\")\n",
    "print(f\"NumPy Range (ptp): {data_range}\")\n",
    "print(f\"Manual Range: {data_max - data_min}\")"
   ]
  },
  {
   "cell_type": "markdown",
   "id": "7f69c893",
   "metadata": {},
   "source": [
    "### 3. Using pandas (for DataFrames)"
   ]
  },
  {
   "cell_type": "code",
   "execution_count": 4,
   "id": "2fa9e904",
   "metadata": {},
   "outputs": [
    {
     "name": "stdout",
     "output_type": "stream",
     "text": [
      "DataFrame:\n",
      "   temperature  sales  customer_rating\n",
      "0           22    100                4\n",
      "1           25    150                5\n",
      "2           19     80                3\n",
      "3           30    200                4\n",
      "4           18     75                5\n",
      "5           35    180                4\n",
      "6           17     70                3\n",
      "7           28    160                5\n",
      "8           23    120                4\n",
      "9           40    250                5\n",
      "\n",
      "Range for each column:\n",
      "temperature: 23 (17 to 40)\n",
      "sales: 180 (70 to 250)\n",
      "customer_rating: 2 (3 to 5)\n",
      "\n",
      "Comprehensive Statistics:\n",
      "       temperature       sales  customer_rating\n",
      "count    10.000000   10.000000        10.000000\n",
      "mean     25.700000  138.500000         4.200000\n",
      "std       7.572611   60.094832         0.788811\n",
      "min      17.000000   70.000000         3.000000\n",
      "25%      19.750000   85.000000         4.000000\n",
      "50%      24.000000  135.000000         4.000000\n",
      "75%      29.500000  175.000000         5.000000\n",
      "max      40.000000  250.000000         5.000000\n"
     ]
    }
   ],
   "source": [
    "import pandas as pd\n",
    "import numpy as np\n",
    "\n",
    "# Create a DataFrame\n",
    "data = {\n",
    "    'temperature': [22, 25, 19, 30, 18, 35, 17, 28, 23, 40],\n",
    "    'sales': [100, 150, 80, 200, 75, 180, 70, 160, 120, 250],\n",
    "    'customer_rating': [4, 5, 3, 4, 5, 4, 3, 5, 4, 5]\n",
    "}\n",
    "\n",
    "df = pd.DataFrame(data)\n",
    "\n",
    "print(\"DataFrame:\")\n",
    "print(df)\n",
    "\n",
    "# Range for each column\n",
    "print(\"\\nRange for each column:\")\n",
    "for column in df.columns:\n",
    "    col_min = df[column].min()\n",
    "    col_max = df[column].max()\n",
    "    col_range = col_max - col_min\n",
    "    print(f\"{column}: {col_range} ({col_min} to {col_max})\")\n",
    "\n",
    "# Using describe() for comprehensive statistics\n",
    "print(\"\\nComprehensive Statistics:\")\n",
    "print(df.describe())"
   ]
  },
  {
   "cell_type": "markdown",
   "id": "eb7f88b3",
   "metadata": {},
   "source": [
    "## Advanced Usage"
   ]
  },
  {
   "cell_type": "markdown",
   "id": "68507d3f",
   "metadata": {},
   "source": [
    "### 1. Handling Outliers in Range Calculation"
   ]
  },
  {
   "cell_type": "code",
   "execution_count": 5,
   "id": "aa4a13bb",
   "metadata": {},
   "outputs": [
    {
     "name": "stdout",
     "output_type": "stream",
     "text": [
      "Original data: [10, 12, 13, 14, 15, 16, 17, 18, 19, 50]\n",
      "Original range: 40\n",
      "Robust range: 9\n",
      "Outliers removed: 1\n"
     ]
    }
   ],
   "source": [
    "import numpy as np\n",
    "\n",
    "def robust_range(data, outlier_threshold=1.5):\n",
    "    \"\"\"\n",
    "    Calculate range while handling outliers using IQR method\n",
    "    \"\"\"\n",
    "    q1 = np.percentile(data, 25)\n",
    "    q3 = np.percentile(data, 75)\n",
    "    iqr = q3 - q1\n",
    "    \n",
    "    # Define outlier bounds\n",
    "    lower_bound = q1 - outlier_threshold * iqr\n",
    "    upper_bound = q3 + outlier_threshold * iqr\n",
    "    \n",
    "    # Filter out outliers\n",
    "    filtered_data = [x for x in data if lower_bound <= x <= upper_bound]\n",
    "    \n",
    "    if len(filtered_data) == 0:\n",
    "        return np.ptp(data)  # Return original range if no data remains\n",
    "    \n",
    "    robust_min = np.min(filtered_data)\n",
    "    robust_max = np.max(filtered_data)\n",
    "    robust_range = robust_max - robust_min\n",
    "    \n",
    "    return {\n",
    "        'original_range': np.ptp(data),\n",
    "        'robust_range': robust_range,\n",
    "        'outliers_removed': len(data) - len(filtered_data),\n",
    "        'filtered_data_size': len(filtered_data)\n",
    "    }\n",
    "\n",
    "# Test with data containing outliers\n",
    "data_with_outliers = [10, 12, 13, 14, 15, 16, 17, 18, 19, 50]  # 50 is an outlier\n",
    "\n",
    "result = robust_range(data_with_outliers)\n",
    "print(f\"Original data: {data_with_outliers}\")\n",
    "print(f\"Original range: {result['original_range']}\")  # 40\n",
    "print(f\"Robust range: {result['robust_range']}\")      # 9\n",
    "print(f\"Outliers removed: {result['outliers_removed']}\")"
   ]
  },
  {
   "cell_type": "markdown",
   "id": "6e2247d3",
   "metadata": {},
   "source": [
    "### 2. Range for Multiple Dataset Comparison"
   ]
  },
  {
   "cell_type": "code",
   "execution_count": 6,
   "id": "9e11a0d3",
   "metadata": {},
   "outputs": [
    {
     "name": "stdout",
     "output_type": "stream",
     "text": [
      "Dataset Range Comparison:\n",
      "                    min      max    range        mean  size\n",
      "Product_Weights   100.0    104.0      4.0    101.6250   8.0\n",
      "Response_Times      0.1      5.0      4.9      0.7875   8.0\n",
      "Student_Heights   160.0    175.0     15.0    168.7500   8.0\n",
      "Monthly_Sales    5000.0  20000.0  15000.0  11750.0000   8.0\n"
     ]
    }
   ],
   "source": [
    "import pandas as pd\n",
    "import numpy as np\n",
    "\n",
    "def compare_datasets_ranges(datasets_dict):\n",
    "    \"\"\"\n",
    "    Compare ranges across multiple datasets\n",
    "    \"\"\"\n",
    "    comparison = {}\n",
    "    \n",
    "    for name, data in datasets_dict.items():\n",
    "        data_array = np.array(data)\n",
    "        comparison[name] = {\n",
    "            'min': np.min(data_array),\n",
    "            'max': np.max(data_array),\n",
    "            'range': np.ptp(data_array),\n",
    "            'mean': np.mean(data_array),\n",
    "            'size': len(data_array)\n",
    "        }\n",
    "    \n",
    "    # Create comparison DataFrame\n",
    "    comparison_df = pd.DataFrame(comparison).T\n",
    "    comparison_df = comparison_df.sort_values('range')\n",
    "    \n",
    "    return comparison_df\n",
    "\n",
    "# Example with different datasets\n",
    "datasets = {\n",
    "    'Student_Heights': [160, 165, 170, 175, 168, 172, 169, 171],\n",
    "    'Product_Weights': [100, 102, 101, 103, 100, 104, 102, 101],\n",
    "    'Monthly_Sales': [5000, 15000, 8000, 12000, 7000, 20000, 9000, 18000],\n",
    "    'Response_Times': [0.1, 0.2, 0.15, 0.3, 0.12, 0.25, 0.18, 5.0]  # With outlier\n",
    "}\n",
    "\n",
    "comparison_result = compare_datasets_ranges(datasets)\n",
    "print(\"Dataset Range Comparison:\")\n",
    "print(comparison_result)"
   ]
  },
  {
   "cell_type": "markdown",
   "id": "9f4d548b",
   "metadata": {},
   "source": [
    "**Key Python Functions Summary**\n",
    "\n",
    "| Method                        | Library  | Usage                  | Best For                    |\n",
    "|-------------------------------|----------|------------------------|-----------------------------|\n",
    "| `max(data) - min(data)`       | Built-in | Manual calculation     | Simple cases                |\n",
    "| `np.ptp(data)`                | NumPy    | Array operations       | Numerical arrays            |\n",
    "| `np.max(data) - np.min(data)` | NumPy    | Explicit calculation   | When you need min/max separately |\n",
    "| `df.max() - df.min()`         | pandas   | DataFrame operations   | Data analysis workflows     |\n",
    "| `df.describe()`               | pandas   | Comprehensive stats    | Full data summary           |\n",
    "\n",
    "\n",
    "Practical Insights\n",
    "- Small range → Data points are close together (consistent)\n",
    "- Large range → Data points are spread out (variable)\n",
    "- Always check for outliers before interpreting range\n",
    "- Use with other measures like standard deviation for complete picture\n",
    "- Good for quick data quality checks - very large ranges might indicate data errors\n",
    "\n",
    "The range is your go-to tool for a quick understanding of how spread out your data is, but always complement it with other dispersion measures for a complete analysis!\n",
    "\n"
   ]
  }
 ],
 "metadata": {
  "kernelspec": {
   "display_name": "py3_13_5",
   "language": "python",
   "name": "python3"
  },
  "language_info": {
   "codemirror_mode": {
    "name": "ipython",
    "version": 3
   },
   "file_extension": ".py",
   "mimetype": "text/x-python",
   "name": "python",
   "nbconvert_exporter": "python",
   "pygments_lexer": "ipython3",
   "version": "3.13.5"
  }
 },
 "nbformat": 4,
 "nbformat_minor": 5
}
