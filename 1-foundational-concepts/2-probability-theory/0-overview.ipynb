{
 "cells": [
  {
   "cell_type": "markdown",
   "id": "f1236f87",
   "metadata": {},
   "source": [
    "## Probability Theory\n",
    "Probability Theory is the mathematical framework for quantifying uncertainty and modeling random phenomena.\n",
    "\n",
    "**Purpose**: Study randomness and uncertainty\n",
    "\n",
    "**Core Concept:** Probability measures how likely an event is to occur, ranging from 0 (impossible) to 1 (certain).\n",
    "\n",
    "**Key Concepts:**\n",
    "- Random Variables: Variables that can take on different values based on chance\n",
    "- Probability Distributions: Functions that describe the likelihood of different outcomes\n",
    "- Expectation and Variance: Measures of central tendency and spread\n",
    "\n",
    "**Statistical Use:**\n",
    "- Model uncertainty and variability\n",
    "- Make predictions based on incomplete information\n",
    "- Inform decision-making under uncertainty"
   ]
  },
  {
   "cell_type": "markdown",
   "id": "daa02e7e",
   "metadata": {},
   "source": [
    "### Quick Practical Example\n"
   ]
  },
  {
   "cell_type": "code",
   "execution_count": 1,
   "id": "7bb12c39",
   "metadata": {},
   "outputs": [
    {
     "name": "stdout",
     "output_type": "stream",
     "text": [
      "Flips:    10 | P(Heads): 0.600 | Error: 0.100\n",
      "Flips:   100 | P(Heads): 0.600 | Error: 0.100\n",
      "Flips:  1000 | P(Heads): 0.499 | Error: 0.001\n",
      "Flips: 10000 | P(Heads): 0.494 | Error: 0.006\n"
     ]
    }
   ],
   "source": [
    "import random\n",
    "\n",
    "# Simple simulation: Coin flips\n",
    "def coin_flip_experiment(n_flips):\n",
    "    heads = 0\n",
    "    for _ in range(n_flips):\n",
    "        if random.random() < 0.5:  # Fair coin\n",
    "            heads += 1\n",
    "    return heads / n_flips\n",
    "\n",
    "# Law of Large Numbers in action\n",
    "for n in [10, 100, 1000, 10000]:\n",
    "    prob = coin_flip_experiment(n)\n",
    "    print(f\"Flips: {n:5d} | P(Heads): {prob:.3f} | Error: {abs(0.5 - prob):.3f}\")"
   ]
  },
  {
   "cell_type": "markdown",
   "id": "4d6c145a",
   "metadata": {},
   "source": [
    "**Why This Matters for Data Science:**\n",
    "- **Statistical Inference:** Foundation for hypothesis testing\n",
    "- **Machine Learning:** Bayesian methods, Naive Bayes classifier\n",
    "- **A/B Testing:** Determine if results are statistically significant\n",
    "- **Risk Analysis:** Quantify uncertainty in predictions\n",
    "- **Decision Making:** Make informed choices under uncertainty\n",
    "\n"
   ]
  }
 ],
 "metadata": {
  "kernelspec": {
   "display_name": "py3_13_5",
   "language": "python",
   "name": "python3"
  },
  "language_info": {
   "codemirror_mode": {
    "name": "ipython",
    "version": 3
   },
   "file_extension": ".py",
   "mimetype": "text/x-python",
   "name": "python",
   "nbconvert_exporter": "python",
   "pygments_lexer": "ipython3",
   "version": "3.13.5"
  }
 },
 "nbformat": 4,
 "nbformat_minor": 5
}
