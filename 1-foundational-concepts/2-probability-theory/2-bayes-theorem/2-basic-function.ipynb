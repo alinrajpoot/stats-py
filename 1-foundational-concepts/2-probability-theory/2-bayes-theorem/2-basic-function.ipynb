{
 "cells": [
  {
   "cell_type": "markdown",
   "id": "fd666b6d",
   "metadata": {},
   "source": [
    "## Basic Bayes' Theorem Function"
   ]
  },
  {
   "cell_type": "code",
   "execution_count": null,
   "id": "d65897b7",
   "metadata": {},
   "outputs": [],
   "source": [
    "def bayes_theorem(prior_A, likelihood_B_given_A, evidence_B):\n",
    "    \"\"\"\n",
    "    Calculate P(A|B) using Bayes' Theorem\n",
    "    \n",
    "    Parameters:\n",
    "    prior_A: P(A) - Prior probability of A\n",
    "    likelihood_B_given_A: P(B|A) - Likelihood of B given A\n",
    "    evidence_B: P(B) - Total probability of B\n",
    "    \n",
    "    Returns:\n",
    "    P(A|B) - Posterior probability of A given B\n",
    "    \"\"\"\n",
    "    return (likelihood_B_given_A * prior_A) / evidence_B"
   ]
  },
  {
   "cell_type": "code",
   "execution_count": 2,
   "id": "7481bb3c",
   "metadata": {},
   "outputs": [],
   "source": [
    "def total_probability(priors, likelihoods):\n",
    "    \"\"\"\n",
    "    Calculate P(B) using law of total probability\n",
    "    P(B) = Σ[P(B|A_i) × P(A_i)]\n",
    "    \"\"\"\n",
    "    return sum(likelihood * prior for prior, likelihood in zip(priors, likelihoods))"
   ]
  },
  {
   "cell_type": "markdown",
   "id": "9069cf2d",
   "metadata": {},
   "source": [
    "### Spam email detection example"
   ]
  },
  {
   "cell_type": "code",
   "execution_count": 4,
   "id": "7f8c44fb",
   "metadata": {},
   "outputs": [
    {
     "name": "stdout",
     "output_type": "stream",
     "text": [
      "Spam Detection Example:\n",
      "P(Spam) = 0.30\n",
      "P('free'|Spam) = 0.60\n",
      "P('free'|Not Spam) = 0.10\n",
      "P('free') = 0.250\n",
      "P(Spam|'free') = 0.720 (72.0%)\n"
     ]
    }
   ],
   "source": [
    "# Prior probabilities\n",
    "P_spam = 0.3           # 30% of emails are spam\n",
    "P_not_spam = 0.7       # 70% are legitimate\n",
    "\n",
    "# Likelihoods: Probability of containing \"free\" given class\n",
    "P_free_given_spam = 0.6     # 60% of spam contains \"free\"\n",
    "P_free_given_not_spam = 0.1 # 10% of legitimate emails contain \"free\"\n",
    "\n",
    "# Total probability of containing \"free\"\n",
    "P_free = total_probability([P_spam, P_not_spam], \n",
    "                          [P_free_given_spam, P_free_given_not_spam])\n",
    "\n",
    "# Apply Bayes' Theorem\n",
    "P_spam_given_free = bayes_theorem(P_spam, P_free_given_spam, P_free)\n",
    "\n",
    "print(\"Spam Detection Example:\")\n",
    "print(f\"P(Spam) = {P_spam:.2f}\")\n",
    "print(f\"P('free'|Spam) = {P_free_given_spam:.2f}\")\n",
    "print(f\"P('free'|Not Spam) = {P_free_given_not_spam:.2f}\")\n",
    "print(f\"P('free') = {P_free:.3f}\")\n",
    "print(f\"P(Spam|'free') = {P_spam_given_free:.3f} ({P_spam_given_free:.1%})\")"
   ]
  }
 ],
 "metadata": {
  "kernelspec": {
   "display_name": "py3_13_5",
   "language": "python",
   "name": "python3"
  },
  "language_info": {
   "codemirror_mode": {
    "name": "ipython",
    "version": 3
   },
   "file_extension": ".py",
   "mimetype": "text/x-python",
   "name": "python",
   "nbconvert_exporter": "python",
   "pygments_lexer": "ipython3",
   "version": "3.13.5"
  }
 },
 "nbformat": 4,
 "nbformat_minor": 5
}
