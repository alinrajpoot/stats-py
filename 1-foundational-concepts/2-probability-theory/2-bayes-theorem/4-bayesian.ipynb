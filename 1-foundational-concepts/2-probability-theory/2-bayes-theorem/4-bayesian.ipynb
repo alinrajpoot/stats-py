{
 "cells": [
  {
   "cell_type": "markdown",
   "id": "b5ebb44d",
   "metadata": {},
   "source": [
    "## Bayesian Theorem\n",
    "Bayesian Theorem describes the probability of an event, based on prior knowledge of conditions that might be related to the event. It is mathematically expressed as:\n",
    "$$\n",
    "P(A|B) = \\frac{P(B|A) * P(A)}{P(B)}\n",
    "$$\n",
    "\n",
    "Where:\n",
    "- **P(A|B)** is the posterior probability: the probability of hypothesis A given the data B.\n",
    "- **P(B|A)** is the likelihood: the probability of data B given that hypothesis A is true.\n",
    "- **P(A)** is the prior probability: the initial probability of hypothesis A.\n",
    "- **P(B)** is the marginal likelihood: the total probability of data B under all hypotheses.\n",
    "\n",
    "Bayesian methods are widely used in various fields, including statistics, machine learning, and artificial intelligence, for tasks such as classification, regression, and decision-making under uncertainty."
   ]
  },
  {
   "cell_type": "markdown",
   "id": "e28fed0b",
   "metadata": {},
   "source": [
    "### 1. Disease Diagnosis Example"
   ]
  },
  {
   "cell_type": "code",
   "execution_count": 1,
   "id": "5196ffd6",
   "metadata": {},
   "outputs": [],
   "source": [
    "# Symptoms: fever, cough, fatigue\n",
    "diseases = {\n",
    "    'flu': {\n",
    "        'prior': 0.05,      # 5% prevalence\n",
    "        'symptoms': {\n",
    "            'fever': 0.8,\n",
    "            'cough': 0.9,\n",
    "            'fatigue': 0.7\n",
    "        }\n",
    "    },\n",
    "    'cold': {\n",
    "        'prior': 0.15,      # 15% prevalence  \n",
    "        'symptoms': {\n",
    "            'fever': 0.1,\n",
    "            'cough': 0.8,\n",
    "            'fatigue': 0.6\n",
    "        }\n",
    "    },\n",
    "    'allergies': {\n",
    "        'prior': 0.10,      # 10% prevalence\n",
    "        'symptoms': {\n",
    "            'fever': 0.01,\n",
    "            'cough': 0.7,\n",
    "            'fatigue': 0.3\n",
    "        }\n",
    "    },\n",
    "    'healthy': {\n",
    "        'prior': 0.70,      # 70% healthy\n",
    "        'symptoms': {\n",
    "            'fever': 0.02,\n",
    "            'cough': 0.1,\n",
    "            'fatigue': 0.2\n",
    "        }\n",
    "    }\n",
    "}"
   ]
  },
  {
   "cell_type": "code",
   "execution_count": 2,
   "id": "da817aa2",
   "metadata": {},
   "outputs": [],
   "source": [
    "def diagnose(symptoms_present, diseases):\n",
    "    \"\"\"Diagnose based on symptoms using Bayes' Theorem\"\"\"\n",
    "    results = {}\n",
    "    total_prob = 0\n",
    "    \n",
    "    # Calculate unnormalized probabilities\n",
    "    for disease, info in diseases.items():\n",
    "        prob = info['prior']\n",
    "        for symptom, present in symptoms_present.items():\n",
    "            if present:\n",
    "                prob *= info['symptoms'][symptom]\n",
    "            else:\n",
    "                prob *= (1 - info['symptoms'][symptom])\n",
    "        results[disease] = prob\n",
    "        total_prob += prob\n",
    "    \n",
    "    # Normalize\n",
    "    if total_prob > 0:\n",
    "        for disease in results:\n",
    "            results[disease] /= total_prob\n",
    "    \n",
    "    return results\n"
   ]
  },
  {
   "cell_type": "code",
   "execution_count": 3,
   "id": "a82ddb24",
   "metadata": {},
   "outputs": [
    {
     "name": "stdout",
     "output_type": "stream",
     "text": [
      "Medical Diagnosis with Bayes' Theorem\n",
      "==================================================\n",
      "\n",
      "Case 1: Symptoms = {'fever': True, 'cough': True, 'fatigue': True}\n",
      "  flu         : 0.7662 (76.6%)\n",
      "  cold        : 0.2189 (21.9%)\n",
      "  healthy     : 0.0085 (0.9%)\n",
      "  allergies   : 0.0064 (0.6%)\n",
      "  Most likely: FLU\n",
      "\n",
      "Case 2: Symptoms = {'fever': False, 'cough': True, 'fatigue': True}\n",
      "  cold        : 0.6136 (61.4%)\n",
      "  allergies   : 0.1969 (19.7%)\n",
      "  healthy     : 0.1299 (13.0%)\n",
      "  flu         : 0.0597 (6.0%)\n",
      "  Most likely: COLD\n",
      "\n",
      "Case 3: Symptoms = {'fever': False, 'cough': False, 'fatigue': False}\n",
      "  healthy     : 0.9394 (93.9%)\n",
      "  allergies   : 0.0395 (4.0%)\n",
      "  cold        : 0.0205 (2.1%)\n",
      "  flu         : 0.0006 (0.1%)\n",
      "  Most likely: HEALTHY\n"
     ]
    }
   ],
   "source": [
    "# Test cases\n",
    "test_cases = [\n",
    "    {'fever': True, 'cough': True, 'fatigue': True},      # Likely flu\n",
    "    {'fever': False, 'cough': True, 'fatigue': True},     # Could be cold/allergies\n",
    "    {'fever': False, 'cough': False, 'fatigue': False},   # Likely healthy\n",
    "]\n",
    "\n",
    "print(\"Medical Diagnosis with Bayes' Theorem\")\n",
    "print(\"=\" * 50)\n",
    "\n",
    "for i, symptoms in enumerate(test_cases, 1):\n",
    "    diagnosis = diagnose(symptoms, diseases)\n",
    "    print(f\"\\nCase {i}: Symptoms = {symptoms}\")\n",
    "    \n",
    "    # Sort by probability\n",
    "    sorted_diagnosis = sorted(diagnosis.items(), key=lambda x: x[1], reverse=True)\n",
    "    for disease, prob in sorted_diagnosis:\n",
    "        print(f\"  {disease:12}: {prob:.4f} ({prob:.1%})\")\n",
    "    \n",
    "    top_diagnosis = sorted_diagnosis[0][0]\n",
    "    print(f\"  Most likely: {top_diagnosis.upper()}\")"
   ]
  },
  {
   "cell_type": "markdown",
   "id": "a9cca195",
   "metadata": {},
   "source": [
    "### 2. A/B Testing Example"
   ]
  },
  {
   "cell_type": "code",
   "execution_count": 4,
   "id": "c988bfc6",
   "metadata": {},
   "outputs": [],
   "source": [
    "import numpy as np\n",
    "\n",
    "def bayesian_analysis(successes_A, trials_A, successes_B, trials_B, prior_alpha=1, prior_beta=1):\n",
    "    \"\"\"\n",
    "    Bayesian A/B test analysis using Beta-Binomial conjugate prior\n",
    "    \"\"\"\n",
    "    from scipy.stats import beta\n",
    "    \n",
    "    # Posterior distributions (Beta distribution)\n",
    "    # Using uniform prior Beta(1,1)\n",
    "    posterior_A = beta(prior_alpha + successes_A, prior_beta + (trials_A - successes_A))\n",
    "    posterior_B = beta(prior_alpha + successes_B, prior_beta + (trials_B - successes_B))\n",
    "    \n",
    "    # Probability that B is better than A\n",
    "    samples = 100000\n",
    "    samples_A = posterior_A.rvs(samples)\n",
    "    samples_B = posterior_B.rvs(samples)\n",
    "    prob_B_better = np.mean(samples_B > samples_A)\n",
    "    \n",
    "    return {\n",
    "        'posterior_A': posterior_A,\n",
    "        'posterior_B': posterior_B,\n",
    "        'prob_B_better': prob_B_better,\n",
    "        'expected_A': successes_A / trials_A,\n",
    "        'expected_B': successes_B / trials_B\n",
    "    }\n"
   ]
  },
  {
   "cell_type": "code",
   "execution_count": 5,
   "id": "fd9c6daf",
   "metadata": {},
   "outputs": [
    {
     "name": "stdout",
     "output_type": "stream",
     "text": [
      "Bayesian A/B Testing Analysis\n",
      "========================================\n",
      "Version A: 45/1000 = 0.045\n",
      "Version B: 55/1000 = 0.055\n",
      "Probability that B is better than A: 0.8458\n",
      "Expected improvement: 22.2%\n",
      "✅ WEAK evidence for Version B\n"
     ]
    }
   ],
   "source": [
    "# Simulated A/B test results\n",
    "# Version A: 45 conversions out of 1000\n",
    "# Version B: 55 conversions out of 1000\n",
    "results = bayesian_analysis(45, 1000, 55, 1000)\n",
    "\n",
    "print(\"Bayesian A/B Testing Analysis\")\n",
    "print(\"=\" * 40)\n",
    "print(f\"Version A: {45}/1000 = {45/1000:.3f}\")\n",
    "print(f\"Version B: {55}/1000 = {55/1000:.3f}\")\n",
    "print(f\"Probability that B is better than A: {results['prob_B_better']:.4f}\")\n",
    "print(f\"Expected improvement: {(55/1000 - 45/1000)/ (45/1000):.1%}\")\n",
    "\n",
    "# Decision making\n",
    "if results['prob_B_better'] > 0.95:\n",
    "    print(\"✅ STRONG evidence for Version B\")\n",
    "elif results['prob_B_better'] > 0.90:\n",
    "    print(\"✅ MODERATE evidence for Version B\") \n",
    "elif results['prob_B_better'] > 0.80:\n",
    "    print(\"✅ WEAK evidence for Version B\")\n",
    "else:\n",
    "    print(\"❌ Insufficient evidence to choose Version B\")"
   ]
  }
 ],
 "metadata": {
  "kernelspec": {
   "display_name": "py3_13_5",
   "language": "python",
   "name": "python3"
  },
  "language_info": {
   "codemirror_mode": {
    "name": "ipython",
    "version": 3
   },
   "file_extension": ".py",
   "mimetype": "text/x-python",
   "name": "python",
   "nbconvert_exporter": "python",
   "pygments_lexer": "ipython3",
   "version": "3.13.5"
  }
 },
 "nbformat": 4,
 "nbformat_minor": 5
}
