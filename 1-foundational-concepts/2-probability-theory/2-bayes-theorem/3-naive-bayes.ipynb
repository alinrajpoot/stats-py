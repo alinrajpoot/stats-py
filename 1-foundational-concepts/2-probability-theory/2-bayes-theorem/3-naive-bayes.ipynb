{
 "cells": [
  {
   "cell_type": "markdown",
   "id": "102466b8",
   "metadata": {},
   "source": [
    "### Naive Bayes\n",
    "Naive Bayes is a classification algorithm based on Bayes' Theorem, which assumes that features are independent given the class. It is widely used in spam detection, sentiment analysis, and document classification due to its simplicity and effectiveness."
   ]
  },
  {
   "cell_type": "markdown",
   "id": "8ac7bd75",
   "metadata": {},
   "source": [
    "### Binary Classification Example"
   ]
  },
  {
   "cell_type": "code",
   "execution_count": 5,
   "id": "cf4645c1",
   "metadata": {},
   "outputs": [
    {
     "name": "stdout",
     "output_type": "stream",
     "text": [
      "yes\n",
      "no\n"
     ]
    }
   ],
   "source": [
    "from collections import Counter, defaultdict\n",
    "\n",
    "# Minimal Naive Bayes example for binary classification\n",
    "\n",
    "# Training data: features are 'rainy' and 'sunny', labels are 'yes' or 'no'\n",
    "data = [\n",
    "    (['rainy'], 'yes'),\n",
    "    (['sunny'], 'no'),\n",
    "    (['rainy'], 'yes'),\n",
    "    (['sunny'], 'no'),\n",
    "    (['rainy'], 'yes')\n",
    "]\n",
    "\n",
    "# Calculate priors and likelihoods\n",
    "\n",
    "labels = [label for _, label in data]\n",
    "priors = {label: labels.count(label)/len(labels) for label in set(labels)}\n",
    "\n",
    "word_counts = defaultdict(lambda: defaultdict(int))\n",
    "label_counts = Counter(labels)\n",
    "\n",
    "for features, label in data:\n",
    "    for word in features:\n",
    "        word_counts[label][word] += 1\n",
    "\n",
    "def predict(features):\n",
    "    probs = {}\n",
    "    for label in priors:\n",
    "        prob = priors[label]\n",
    "        for word in features:\n",
    "            # Laplace smoothing\n",
    "            prob *= (word_counts[label][word] + 1) / (label_counts[label] + 2)\n",
    "        probs[label] = prob\n",
    "    return max(probs, key=probs.get)\n",
    "\n",
    "# Test\n",
    "print(predict(['rainy']))  # Output: 'yes'\n",
    "print(predict(['sunny']))  # Output: 'no'"
   ]
  },
  {
   "cell_type": "markdown",
   "id": "25e25d04",
   "metadata": {},
   "source": [
    "### Email Classifier Example"
   ]
  },
  {
   "cell_type": "code",
   "execution_count": 1,
   "id": "0cf54534",
   "metadata": {},
   "outputs": [],
   "source": [
    "# Classes: Spam vs Not Spam\n",
    "classes = {\n",
    "    'spam': {\n",
    "        'prior': 0.3,\n",
    "        'word_probs': {\n",
    "            'free': 0.6,\n",
    "            'money': 0.5,\n",
    "            'urgent': 0.4,\n",
    "            'meeting': 0.1\n",
    "        }\n",
    "    },\n",
    "    'not_spam': {\n",
    "        'prior': 0.7,\n",
    "        'word_probs': {\n",
    "            'free': 0.1,\n",
    "            'money': 0.05,\n",
    "            'urgent': 0.02,\n",
    "            'meeting': 0.3\n",
    "        }\n",
    "    }\n",
    "}"
   ]
  },
  {
   "cell_type": "code",
   "execution_count": 3,
   "id": "c3f42f19",
   "metadata": {},
   "outputs": [],
   "source": [
    "def classify_email(words, classes):\n",
    "    \"\"\"Classify email based on words using Naive Bayes\"\"\"\n",
    "    results = {}\n",
    "    \n",
    "    for class_name, class_info in classes.items():\n",
    "        # Start with prior\n",
    "        probability = class_info['prior']\n",
    "        \n",
    "        # Multiply by likelihood for each word (Naive assumption: independence)\n",
    "        for word in words:\n",
    "            if word in class_info['word_probs']:\n",
    "                probability *= class_info['word_probs'][word]\n",
    "        \n",
    "        results[class_name] = probability\n",
    "    \n",
    "    # Normalize to get probabilities\n",
    "    total = sum(results.values())\n",
    "    if total > 0:\n",
    "        for class_name in results:\n",
    "            results[class_name] /= total\n",
    "    \n",
    "    return results"
   ]
  },
  {
   "cell_type": "code",
   "execution_count": 4,
   "id": "251a2cf1",
   "metadata": {},
   "outputs": [
    {
     "name": "stdout",
     "output_type": "stream",
     "text": [
      "Naive Bayes Email Classification:\n",
      "==================================================\n",
      "\n",
      "Email 1: ['free', 'money']\n",
      "  P(spam) = 0.9626 (96.3%)\n",
      "  P(not_spam) = 0.0374 (3.7%)\n",
      "  Prediction: SPAM\n",
      "\n",
      "Email 2: ['meeting', 'urgent']\n",
      "  P(spam) = 0.7407 (74.1%)\n",
      "  P(not_spam) = 0.2593 (25.9%)\n",
      "  Prediction: SPAM\n",
      "\n",
      "Email 3: ['free', 'meeting']\n",
      "  P(spam) = 0.4615 (46.2%)\n",
      "  P(not_spam) = 0.5385 (53.8%)\n",
      "  Prediction: NOT_SPAM\n"
     ]
    }
   ],
   "source": [
    "# Test emails\n",
    "test_emails = [\n",
    "    ['free', 'money'],           # Likely spam\n",
    "    ['meeting', 'urgent'],       # Mixed signals\n",
    "    ['free', 'meeting']          # Could go either way\n",
    "]\n",
    "\n",
    "print(\"Naive Bayes Email Classification:\")\n",
    "print(\"=\" * 50)\n",
    "\n",
    "for i, email_words in enumerate(test_emails, 1):\n",
    "    probabilities = classify_email(email_words, classes)\n",
    "    print(f\"\\nEmail {i}: {email_words}\")\n",
    "    for class_name, prob in probabilities.items():\n",
    "        print(f\"  P({class_name}) = {prob:.4f} ({prob:.1%})\")\n",
    "    \n",
    "    # Prediction\n",
    "    prediction = max(probabilities, key=probabilities.get)\n",
    "    print(f\"  Prediction: {prediction.upper()}\")"
   ]
  }
 ],
 "metadata": {
  "kernelspec": {
   "display_name": "py3_13_5",
   "language": "python",
   "name": "python3"
  },
  "language_info": {
   "codemirror_mode": {
    "name": "ipython",
    "version": 3
   },
   "file_extension": ".py",
   "mimetype": "text/x-python",
   "name": "python",
   "nbconvert_exporter": "python",
   "pygments_lexer": "ipython3",
   "version": "3.13.5"
  }
 },
 "nbformat": 4,
 "nbformat_minor": 5
}
