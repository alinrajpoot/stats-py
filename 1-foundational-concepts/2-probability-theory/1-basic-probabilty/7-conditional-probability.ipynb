{
 "cells": [
  {
   "cell_type": "markdown",
   "id": "498049bf",
   "metadata": {},
   "source": [
    "## Conditional Probability\n",
    "The conditional probability of an event $ A $ given that event $ B $ has occurred is denoted by $ P(A|B) $ and is defined as:\n",
    "$$\n",
    "P(A|B) = \\frac{P(A \\cap B)}{P(B)}\n",
    "$$\n",
    "### Example\n",
    "If $ P(A \\cap B) = 0.2 $ and $ P(B) = 0.5 $, then $ P(A|B) = \\frac{0.2}{0.5} = 0.4 $.\n"
   ]
  },
  {
   "cell_type": "code",
   "execution_count": null,
   "id": "35d92ba0",
   "metadata": {},
   "outputs": [
    {
     "name": "stdout",
     "output_type": "stream",
     "text": [
      "Probability of having the disease given a positive test: 0.5000\n"
     ]
    }
   ],
   "source": [
    "# Example: Medical Test for a Disease\n",
    "\n",
    "# Suppose 1% of a population has a certain disease (D).\n",
    "# A test for the disease is 99% accurate: \n",
    "# - If a person has the disease, the test is positive 99% of the time (True Positive Rate).\n",
    "# - If a person does not have the disease, the test is negative 99% of the time (True Negative Rate).\n",
    "\n",
    "# Let's calculate the probability that a person actually has the disease given that they tested positive (P(D|Positive)).\n",
    "\n",
    "# Given:\n",
    "P_D = 0.01                # Probability of having the disease\n",
    "P_not_D = 0.99            # Probability of not having the disease\n",
    "P_Pos_given_D = 0.99      # Probability of testing positive given disease\n",
    "P_Pos_given_not_D = 0.01  # Probability of testing positive given no disease (False Positive Rate)\n",
    "\n",
    "# Total probability of testing positive\n",
    "P_Pos = P_Pos_given_D * P_D + P_Pos_given_not_D * P_not_D\n",
    "\n",
    "# Conditional probability using Bayes' theorem\n",
    "P_D_given_Pos = (P_Pos_given_D * P_D) / P_Pos\n",
    "\n",
    "print(f\"Probability of having the disease given a positive test: {P_D_given_Pos:.4f}\")"
   ]
  },
  {
   "cell_type": "markdown",
   "id": "bf8574e6",
   "metadata": {},
   "source": [
    "**Real-world use cases:**\n",
    "- **Medical Diagnosis:** Determining the probability of a disease given a positive test result.\n",
    "- **Spam Filtering:** Calculating the likelihood of an email being spam based on certain keywords.\n",
    "- **Marketing:** Estimating the probability of a customer making a purchase given they clicked on an ad.\n",
    "- **Weather Forecasting:** Predicting the chance of rain given current weather conditions."
   ]
  }
 ],
 "metadata": {
  "kernelspec": {
   "display_name": "py3_13_5",
   "language": "python",
   "name": "python3"
  },
  "language_info": {
   "codemirror_mode": {
    "name": "ipython",
    "version": 3
   },
   "file_extension": ".py",
   "mimetype": "text/x-python",
   "name": "python",
   "nbconvert_exporter": "python",
   "pygments_lexer": "ipython3",
   "version": "3.13.5"
  }
 },
 "nbformat": 4,
 "nbformat_minor": 5
}
