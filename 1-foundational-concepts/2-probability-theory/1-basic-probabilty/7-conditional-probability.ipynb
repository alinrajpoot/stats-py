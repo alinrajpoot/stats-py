{
 "cells": [
  {
   "cell_type": "markdown",
   "id": "498049bf",
   "metadata": {},
   "source": [
    "## Conditional Probability\n",
    "The conditional probability of an event $ A $ given that event $ B $ has occurred is denoted by $ P(A|B) $ and is defined as:\n",
    "$$\n",
    "P(A|B) = \\frac{P(A \\cap B)}{P(B)}\n",
    "$$\n",
    "### Example\n",
    "If $ P(A \\cap B) = 0.2 $ and $ P(B) = 0.5 $, then $ P(A|B) = \\frac{0.2}{0.5} = 0.4 $.\n"
   ]
  },
  {
   "cell_type": "code",
   "execution_count": null,
   "id": "35d92ba0",
   "metadata": {},
   "outputs": [
    {
     "name": "stdout",
     "output_type": "stream",
     "text": [
      "Probability of having the disease given a positive test: 0.5000\n"
     ]
    }
   ],
   "source": [
    "# Example: Medical Test for a Disease\n",
    "\n",
    "# Suppose 1% of a population has a certain disease (D).\n",
    "# A test for the disease is 99% accurate: \n",
    "# - If a person has the disease, the test is positive 99% of the time (True Positive Rate).\n",
    "# - If a person does not have the disease, the test is negative 99% of the time (True Negative Rate).\n",
    "\n",
    "# Let's calculate the probability that a person actually has the disease given that they tested positive (P(D|Positive)).\n",
    "\n",
    "# Given:\n",
    "P_D = 0.01                # Probability of having the disease\n",
    "P_not_D = 0.99            # Probability of not having the disease\n",
    "P_Pos_given_D = 0.99      # Probability of testing positive given disease\n",
    "P_Pos_given_not_D = 0.01  # Probability of testing positive given no disease (False Positive Rate)\n",
    "\n",
    "# Total probability of testing positive\n",
    "P_Pos = P_Pos_given_D * P_D + P_Pos_given_not_D * P_not_D\n",
    "\n",
    "# Conditional probability using Bayes' theorem\n",
    "P_D_given_Pos = (P_Pos_given_D * P_D) / P_Pos\n",
    "\n",
    "print(f\"Probability of having the disease given a positive test: {P_D_given_Pos:.4f}\")"
   ]
  },
  {
   "cell_type": "markdown",
   "id": "108ffc9f",
   "metadata": {},
   "source": [
    "### Medical Diagnosis Example"
   ]
  },
  {
   "cell_type": "code",
   "execution_count": 2,
   "id": "c84e60d4",
   "metadata": {},
   "outputs": [
    {
     "name": "stdout",
     "output_type": "stream",
     "text": [
      "\n",
      "Medical Test Example:\n",
      "P(Disease) = 0.010\n",
      "P(Positive|Disease) = 0.950\n",
      "P(Positive|No Disease) = 0.050\n",
      "P(Positive) = 0.059\n",
      "P(Disease|Positive) = 0.161\n"
     ]
    },
    {
     "data": {
      "text/plain": [
       "0.16101694915254236"
      ]
     },
     "execution_count": 2,
     "metadata": {},
     "output_type": "execute_result"
    }
   ],
   "source": [
    "def calculate_probability(favorable_outcomes, sample_space):\n",
    "    \"\"\"Calculate probability of an event\"\"\"\n",
    "    if not favorable_outcomes.issubset(sample_space):\n",
    "        raise ValueError(\"Favorable outcomes must be subset of sample space\")\n",
    "    \n",
    "    return len(favorable_outcomes) / len(sample_space)\n",
    "\n",
    "def conditional_probability(A, B, S):\n",
    "    \"\"\"Calculate P(A|B) - Probability of A given B\"\"\"\n",
    "    P_A_and_B = calculate_probability(A.intersection(B), S)\n",
    "    P_B = calculate_probability(B, S)\n",
    "    \n",
    "    if P_B == 0:\n",
    "        return 0  # Cannot condition on impossible event\n",
    "    \n",
    "    return P_A_and_B / P_B\n",
    "\n",
    "# Real-world example: Medical testing\n",
    "def medical_test_example():\n",
    "    \"\"\"Probability of having disease given positive test\"\"\"\n",
    "    \n",
    "    # Probabilities\n",
    "    P_disease = 0.01          # 1% of population has disease\n",
    "    P_positive_given_disease = 0.95    # Test sensitivity\n",
    "    P_positive_given_no_disease = 0.05 # False positive rate\n",
    "    \n",
    "    # Calculate P(positive)\n",
    "    P_positive = (P_positive_given_disease * P_disease + \n",
    "                  P_positive_given_no_disease * (1 - P_disease))\n",
    "    \n",
    "    # Calculate P(disease|positive) using Bayes' Theorem\n",
    "    P_disease_given_positive = (P_positive_given_disease * P_disease) / P_positive\n",
    "    \n",
    "    print(\"\\nMedical Test Example:\")\n",
    "    print(f\"P(Disease) = {P_disease:.3f}\")\n",
    "    print(f\"P(Positive|Disease) = {P_positive_given_disease:.3f}\")\n",
    "    print(f\"P(Positive|No Disease) = {P_positive_given_no_disease:.3f}\")\n",
    "    print(f\"P(Positive) = {P_positive:.3f}\")\n",
    "    print(f\"P(Disease|Positive) = {P_disease_given_positive:.3f}\")\n",
    "    \n",
    "    return P_disease_given_positive\n",
    "\n",
    "medical_test_example()\n"
   ]
  },
  {
   "cell_type": "markdown",
   "id": "0f52b692",
   "metadata": {},
   "source": [
    "### Rolling Dice Example"
   ]
  },
  {
   "cell_type": "code",
   "execution_count": 3,
   "id": "226cc375",
   "metadata": {},
   "outputs": [
    {
     "name": "stdout",
     "output_type": "stream",
     "text": [
      "\n",
      "Conditional Probability with Dice:\n",
      "P(Even | >4) = P(Even ∩ >4) / P(>4) = 0.500\n",
      "P(>4 | Even) = P(>4 ∩ Even) / P(Even) = 0.333\n"
     ]
    }
   ],
   "source": [
    "\n",
    "# Simple conditional probability example\n",
    "print(\"\\nConditional Probability with Dice:\")\n",
    "# Given that we rolled an even number, what's probability it's > 4?\n",
    "A = {2, 4, 6}  # Even numbers\n",
    "B = {5, 6}     # Numbers > 4\n",
    "S = {1, 2, 3, 4, 5, 6}  # Sample space for a fair six-sided die\n",
    "\n",
    "P_A_given_B = conditional_probability(A, B, S)\n",
    "P_B_given_A = conditional_probability(B, A, S)\n",
    "\n",
    "print(f\"P(Even | >4) = P(Even ∩ >4) / P(>4) = {P_A_given_B:.3f}\")\n",
    "print(f\"P(>4 | Even) = P(>4 ∩ Even) / P(Even) = {P_B_given_A:.3f}\")"
   ]
  },
  {
   "cell_type": "markdown",
   "id": "bf8574e6",
   "metadata": {},
   "source": [
    "**Real-world use cases:**\n",
    "- **Medical Diagnosis:** Determining the probability of a disease given a positive test result.\n",
    "- **Spam Filtering:** Calculating the likelihood of an email being spam based on certain keywords.\n",
    "- **Marketing:** Estimating the probability of a customer making a purchase given they clicked on an ad.\n",
    "- **Weather Forecasting:** Predicting the chance of rain given current weather conditions."
   ]
  }
 ],
 "metadata": {
  "kernelspec": {
   "display_name": "py3_13_5",
   "language": "python",
   "name": "python3"
  },
  "language_info": {
   "codemirror_mode": {
    "name": "ipython",
    "version": 3
   },
   "file_extension": ".py",
   "mimetype": "text/x-python",
   "name": "python",
   "nbconvert_exporter": "python",
   "pygments_lexer": "ipython3",
   "version": "3.13.5"
  }
 },
 "nbformat": 4,
 "nbformat_minor": 5
}
