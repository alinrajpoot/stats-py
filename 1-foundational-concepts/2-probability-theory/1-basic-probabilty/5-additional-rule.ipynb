{
 "cells": [
  {
   "cell_type": "markdown",
   "id": "ce6d5256",
   "metadata": {},
   "source": [
    "## Addition Rule\n",
    "The addition rule states that for two mutually exclusive events $ A $ and $ B $, the probability of either event occurring is given by:\n",
    "$$\n",
    "P(A \\cup B) = P(A) + P(B)\n",
    "$$\n",
    "For non-mutually exclusive events, the rule is:\n",
    "$$\n",
    "P(A \\cup B) = P(A) + P(B) - P(A \\cap B)\n",
    "$$\n",
    "### Example\n",
    "If $ P(A) = 0.4 $, $ P(B) = 0.5 $, and $ P(A \\cap B) = 0.2 $, then $ P(A \\cup B) = 0.4 + 0.5 - 0.2 = 0.7 $.\n"
   ]
  },
  {
   "cell_type": "code",
   "execution_count": 2,
   "id": "ad3435a7",
   "metadata": {},
   "outputs": [
    {
     "name": "stdout",
     "output_type": "stream",
     "text": [
      "Set A: {2, 4, 6}\n",
      "Set B: {5, 6}\n",
      "Union A∪B: {2, 4, 5, 6} | P = 0.667\n",
      "Intersection A∩B: {6} | P = 0.167\n",
      "Complement A': {1, 3, 5} | P = 0.500\n",
      "Difference A-B: {2, 4} | P = 0.333\n"
     ]
    }
   ],
   "source": [
    "def calculate_probability(favorable_outcomes, sample_space):\n",
    "    \"\"\"Calculate probability of an event\"\"\"\n",
    "    if not favorable_outcomes.issubset(sample_space):\n",
    "        raise ValueError(\"Favorable outcomes must be subset of sample space\")\n",
    "    \n",
    "    return len(favorable_outcomes) / len(sample_space)\n",
    "\n",
    "def probability_operations(A, B, S):\n",
    "    \"\"\"Demonstrate probability set operations\"\"\"\n",
    "    \n",
    "    # Union: A ∪ B (A or B or both)\n",
    "    union = A.union(B)\n",
    "    P_union = calculate_probability(union, S)\n",
    "    \n",
    "    # Intersection: A ∩ B (Both A and B)\n",
    "    intersection = A.intersection(B)\n",
    "    P_intersection = calculate_probability(intersection, S)\n",
    "    \n",
    "    # Complement: A' (Not A)\n",
    "    complement_A = S - A\n",
    "    P_complement_A = calculate_probability(complement_A, S)\n",
    "    \n",
    "    # Difference: A - B (A but not B)\n",
    "    difference = A - B\n",
    "    P_difference = calculate_probability(difference, S)\n",
    "    \n",
    "    print(f\"Set A: {A}\")\n",
    "    print(f\"Set B: {B}\")\n",
    "    print(f\"Union A∪B: {union} | P = {P_union:.3f}\")\n",
    "    print(f\"Intersection A∩B: {intersection} | P = {P_intersection:.3f}\")\n",
    "    print(f\"Complement A': {complement_A} | P = {P_complement_A:.3f}\")\n",
    "    print(f\"Difference A-B: {difference} | P = {P_difference:.3f}\")\n",
    "    \n",
    "    return union, intersection, complement_A, difference\n",
    "\n",
    "# Example with dice\n",
    "A = {2, 4, 6}  # Even numbers\n",
    "B = {5, 6}     # Numbers > 4\n",
    "S = {1, 2, 3, 4, 5, 6}\n",
    "\n",
    "union, intersection, complement, difference = probability_operations(A, B, S)"
   ]
  },
  {
   "cell_type": "code",
   "execution_count": 3,
   "id": "03badd26",
   "metadata": {},
   "outputs": [
    {
     "name": "stdout",
     "output_type": "stream",
     "text": [
      "P(A) = 0.50\n",
      "P(B) = 0.33\n",
      "P(A ∩ B) = 0.17\n",
      "P(A ∪ B) = P(A) + P(B) - P(A ∩ B) = 0.67\n"
     ]
    }
   ],
   "source": [
    "# Addition Rule Example\n",
    "P_A = len(A) / len(S)           # Probability of A\n",
    "P_B = len(B) / len(S)           # Probability of B\n",
    "P_A_and_B = len(intersection) / len(S)  # Probability of A ∩ B\n",
    "\n",
    "# Addition rule for non-mutually exclusive events:\n",
    "P_A_or_B = P_A + P_B - P_A_and_B\n",
    "\n",
    "print(f\"P(A) = {P_A:.2f}\")\n",
    "print(f\"P(B) = {P_B:.2f}\")\n",
    "print(f\"P(A ∩ B) = {P_A_and_B:.2f}\")\n",
    "print(f\"P(A ∪ B) = P(A) + P(B) - P(A ∩ B) = {P_A_or_B:.2f}\")"
   ]
  },
  {
   "cell_type": "markdown",
   "id": "0669afc4",
   "metadata": {},
   "source": [
    "**Use Cases:**\n",
    "- **Statistical Inference:** Foundation for hypothesis testing\n",
    "- **Machine Learning:** Bayesian methods, Naive Bayes classifier\n",
    "- **A/B Testing:** Determine if results are statistically significant\n",
    "- **Risk Analysis:** Quantify uncertainty in predictions\n",
    "- **Decision Making:** Make informed choices under uncertainty\n"
   ]
  }
 ],
 "metadata": {
  "kernelspec": {
   "display_name": "py3_13_5",
   "language": "python",
   "name": "python3"
  },
  "language_info": {
   "codemirror_mode": {
    "name": "ipython",
    "version": 3
   },
   "file_extension": ".py",
   "mimetype": "text/x-python",
   "name": "python",
   "nbconvert_exporter": "python",
   "pygments_lexer": "ipython3",
   "version": "3.13.5"
  }
 },
 "nbformat": 4,
 "nbformat_minor": 5
}
