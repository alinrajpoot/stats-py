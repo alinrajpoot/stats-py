{
 "cells": [
  {
   "cell_type": "markdown",
   "id": "1d0c955d",
   "metadata": {},
   "source": [
    "## Independence\n",
    "Two events $ A $ and $ B $ are said to be independent if the occurrence of one does not affect the occurrence of the other. Mathematically, this is expressed as:\n",
    "$$\n",
    "P(A \\cap B) = P(A) \\times P(B)\n",
    "$$\n",
    "### Example\n",
    "If $ P(A) = 0.5 $ and $ P(B) = 0.4 $, then $ P(A \\cap B) = 0.5 \\times 0.4 = 0.2 $.\n",
    "\n",
    "**Also,** $ P(A|B) = P(A) $ and $ P(B|A) = P(B) $.\n",
    "\n",
    "Means the occurrence of event A does not change the probability of event B occurring, and vice versa."
   ]
  },
  {
   "cell_type": "code",
   "execution_count": 3,
   "id": "87395480",
   "metadata": {},
   "outputs": [
    {
     "name": "stdout",
     "output_type": "stream",
     "text": [
      "P(A) = 0.50\n",
      "P(B) = 0.17\n",
      "P(A ∩ B) = P(A) * P(B) = 0.08\n"
     ]
    }
   ],
   "source": [
    "# Real-life example: Tossing a fair coin and rolling a fair die\n",
    "\n",
    "# Event A: Getting 'Heads' when tossing a coin\n",
    "# Event B: Getting a '6' when rolling a die\n",
    "\n",
    "# Probability of A (P(A)): 1/2 (since there are 2 possible outcomes: Heads or Tails)\n",
    "# Probability of B (P(B)): 1/6 (since there are 6 possible outcomes: 1 to 6)\n",
    "\n",
    "P_A = 1/2\n",
    "P_B = 1/6\n",
    "\n",
    "# Since tossing a coin and rolling a die are independent events,\n",
    "# Probability of both A and B happening (P(A ∩ B)):\n",
    "P_A_and_B = P_A * P_B\n",
    "\n",
    "print(f\"P(A) = {P_A:.2f}\")\n",
    "print(f\"P(B) = {P_B:.2f}\")\n",
    "print(f\"P(A ∩ B) = P(A) * P(B) = {P_A_and_B:.2f}\")"
   ]
  },
  {
   "cell_type": "markdown",
   "id": "dc464c6e",
   "metadata": {},
   "source": [
    "### Examples"
   ]
  },
  {
   "cell_type": "code",
   "execution_count": 1,
   "id": "c249304a",
   "metadata": {},
   "outputs": [],
   "source": [
    "def calculate_probability(favorable_outcomes, sample_space):\n",
    "    \"\"\"Calculate probability of an event\"\"\"\n",
    "    if not favorable_outcomes.issubset(sample_space):\n",
    "        raise ValueError(\"Favorable outcomes must be subset of sample space\")\n",
    "    \n",
    "    return len(favorable_outcomes) / len(sample_space)\n",
    "\n",
    "def conditional_probability(A, B, S):\n",
    "    \"\"\"Calculate P(A|B) - Probability of A given B\"\"\"\n",
    "    P_A_and_B = calculate_probability(A.intersection(B), S)\n",
    "    P_B = calculate_probability(B, S)\n",
    "    \n",
    "    if P_B == 0:\n",
    "        return 0  # Cannot condition on impossible event\n",
    "    \n",
    "    return P_A_and_B / P_B\n",
    "\n",
    "def check_independence(A, B, S):\n",
    "    \"\"\"Check if two events are independent\"\"\"\n",
    "    P_A = calculate_probability(A, S)\n",
    "    P_B = calculate_probability(B, S)\n",
    "    P_A_and_B = calculate_probability(A.intersection(B), S)\n",
    "    \n",
    "    # Method 1: Check multiplication rule\n",
    "    multiplication_rule_holds = abs(P_A_and_B - (P_A * P_B)) < 1e-10\n",
    "    \n",
    "    # Method 2: Check conditional probabilities\n",
    "    if P_B > 0:\n",
    "        P_A_given_B = conditional_probability(A, B, S)\n",
    "        conditional_rule_holds = abs(P_A_given_B - P_A) < 1e-10\n",
    "    else:\n",
    "        conditional_rule_holds = False\n",
    "    \n",
    "    return multiplication_rule_holds and conditional_rule_holds\n"
   ]
  },
  {
   "cell_type": "markdown",
   "id": "e45e27c5",
   "metadata": {},
   "source": [
    "#### Two Coin Tosses"
   ]
  },
  {
   "cell_type": "code",
   "execution_count": 2,
   "id": "4de6450a",
   "metadata": {},
   "outputs": [
    {
     "name": "stdout",
     "output_type": "stream",
     "text": [
      "\n",
      "Checking Independence:\n",
      "First coin heads and Second coin heads: Independent = True\n"
     ]
    }
   ],
   "source": [
    "# Test independence with different events\n",
    "print(\"\\nChecking Independence:\")\n",
    "\n",
    "# Example 1: Independent events\n",
    "# Two coin tosses\n",
    "S_coins = {'HH', 'HT', 'TH', 'TT'}\n",
    "first_coin_heads = {'HH', 'HT'}\n",
    "second_coin_heads = {'HH', 'TH'}\n",
    "\n",
    "ind1 = check_independence(first_coin_heads, second_coin_heads, S_coins)\n",
    "print(f\"First coin heads and Second coin heads: Independent = {ind1}\")\n"
   ]
  },
  {
   "cell_type": "markdown",
   "id": "16f7a1ff",
   "metadata": {},
   "source": [
    "#### Weather Example"
   ]
  },
  {
   "cell_type": "code",
   "execution_count": 8,
   "id": "ca7e86cb",
   "metadata": {},
   "outputs": [
    {
     "name": "stdout",
     "output_type": "stream",
     "text": [
      "\n",
      "Weather Example (dependent):\n",
      "Sunny AND Warm: Independent = False\n"
     ]
    }
   ],
   "source": [
    "weather = {'sunny_warm', 'sunny_cool', 'cloudy_warm', 'cloudy_cool', 'rainy_cool'}\n",
    "sunny = {'sunny_warm', 'sunny_cool'}\n",
    "warm = {'sunny_warm', 'cloudy_warm'}\n",
    "\n",
    "print(\"\\nWeather Example (dependent):\")\n",
    "ind = check_independence(sunny, warm, weather)\n",
    "print(f\"Sunny AND Warm: Independent = {ind}\")"
   ]
  },
  {
   "cell_type": "markdown",
   "id": "67787d6e",
   "metadata": {},
   "source": [
    "#### Why:"
   ]
  },
  {
   "cell_type": "code",
   "execution_count": 10,
   "id": "85440c15",
   "metadata": {},
   "outputs": [
    {
     "name": "stdout",
     "output_type": "stream",
     "text": [
      "P(Sunny) = 0.400, but P(Sunny|Warm) = 0.500\n"
     ]
    }
   ],
   "source": [
    "# Show why they're dependent\n",
    "P_sunny = calculate_probability(sunny, weather)\n",
    "P_sunny_given_warm = conditional_probability(sunny, warm, weather)\n",
    "print(f\"P(Sunny) = {P_sunny:.3f}, but P(Sunny|Warm) = {P_sunny_given_warm:.3f}\")"
   ]
  }
 ],
 "metadata": {
  "kernelspec": {
   "display_name": "py3_13_5",
   "language": "python",
   "name": "python3"
  },
  "language_info": {
   "codemirror_mode": {
    "name": "ipython",
    "version": 3
   },
   "file_extension": ".py",
   "mimetype": "text/x-python",
   "name": "python",
   "nbconvert_exporter": "python",
   "pygments_lexer": "ipython3",
   "version": "3.13.5"
  }
 },
 "nbformat": 4,
 "nbformat_minor": 5
}
