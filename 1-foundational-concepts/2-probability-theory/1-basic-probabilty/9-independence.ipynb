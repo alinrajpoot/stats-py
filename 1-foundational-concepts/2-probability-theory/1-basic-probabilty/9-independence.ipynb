{
 "cells": [
  {
   "cell_type": "markdown",
   "id": "1d0c955d",
   "metadata": {},
   "source": [
    "## Independence\n",
    "Two events $ A $ and $ B $ are said to be independent if the occurrence of one does not affect the occurrence of the other. Mathematically, this is expressed as:\n",
    "$$\n",
    "P(A \\cap B) = P(A) \\times P(B)\n",
    "$$\n",
    "### Example\n",
    "If $ P(A) = 0.5 $ and $ P(B) = 0.4 $, then $ P(A \\cap B) = 0.5 \\times 0.4 = 0.2 $.\n",
    "\n",
    "**Also,** $ P(A|B) = P(A) $ and $ P(B|A) = P(B) $.\n",
    "\n",
    "Means the occurrence of event A does not change the probability of event B occurring, and vice versa."
   ]
  },
  {
   "cell_type": "code",
   "execution_count": 3,
   "id": "87395480",
   "metadata": {},
   "outputs": [
    {
     "name": "stdout",
     "output_type": "stream",
     "text": [
      "P(A) = 0.50\n",
      "P(B) = 0.17\n",
      "P(A ∩ B) = P(A) * P(B) = 0.08\n"
     ]
    }
   ],
   "source": [
    "# Real-life example: Tossing a fair coin and rolling a fair die\n",
    "\n",
    "# Event A: Getting 'Heads' when tossing a coin\n",
    "# Event B: Getting a '6' when rolling a die\n",
    "\n",
    "# Probability of A (P(A)): 1/2 (since there are 2 possible outcomes: Heads or Tails)\n",
    "# Probability of B (P(B)): 1/6 (since there are 6 possible outcomes: 1 to 6)\n",
    "\n",
    "P_A = 1/2\n",
    "P_B = 1/6\n",
    "\n",
    "# Since tossing a coin and rolling a die are independent events,\n",
    "# Probability of both A and B happening (P(A ∩ B)):\n",
    "P_A_and_B = P_A * P_B\n",
    "\n",
    "print(f\"P(A) = {P_A:.2f}\")\n",
    "print(f\"P(B) = {P_B:.2f}\")\n",
    "print(f\"P(A ∩ B) = P(A) * P(B) = {P_A_and_B:.2f}\")"
   ]
  }
 ],
 "metadata": {
  "kernelspec": {
   "display_name": "py3_13_5",
   "language": "python",
   "name": "python3"
  },
  "language_info": {
   "codemirror_mode": {
    "name": "ipython",
    "version": 3
   },
   "file_extension": ".py",
   "mimetype": "text/x-python",
   "name": "python",
   "nbconvert_exporter": "python",
   "pygments_lexer": "ipython3",
   "version": "3.13.5"
  }
 },
 "nbformat": 4,
 "nbformat_minor": 5
}
