{
 "cells": [
  {
   "cell_type": "markdown",
   "id": "c9a82050",
   "metadata": {},
   "source": [
    "## Basic Probability Rule\n",
    "The basic probability rule states that the probability of an event $ A $ occurring is given by:\n",
    "$$\n",
    "P(A) = \\frac{\\text{Number of favorable outcomes}}{\\text{Total number of outcomes}} \n",
    "$$\n",
    "\n",
    "### Example\n",
    "The probability of rolling a `3` on a fair six-sided die is $ P(3) = \\frac{1}{6} $.\n"
   ]
  },
  {
   "cell_type": "code",
   "execution_count": 1,
   "id": "73c25083",
   "metadata": {},
   "outputs": [
    {
     "name": "stdout",
     "output_type": "stream",
     "text": [
      "Probability Calculations:\n",
      "P(Even number) = 0.500\n",
      "P(Number > 4) = 0.333\n",
      "\n",
      "Probability Axioms:\n",
      "1. Non-negativity: P(A) = 0.5 ≥ 0\n",
      "2. Certain event: P(S) = 1.0 = 1\n"
     ]
    }
   ],
   "source": [
    "def calculate_probability(favorable_outcomes, sample_space):\n",
    "    \"\"\"Calculate probability of an event\"\"\"\n",
    "    if not favorable_outcomes.issubset(sample_space):\n",
    "        raise ValueError(\"Favorable outcomes must be subset of sample space\")\n",
    "    \n",
    "    return len(favorable_outcomes) / len(sample_space)\n",
    "\n",
    "# Examples\n",
    "S_dice = {1, 2, 3, 4, 5, 6}\n",
    "\n",
    "# Event A: Rolling an even number\n",
    "A = {2, 4, 6}\n",
    "P_A = calculate_probability(A, S_dice)\n",
    "\n",
    "# Event B: Rolling number > 4\n",
    "B = {5, 6}\n",
    "P_B = calculate_probability(B, S_dice)\n",
    "\n",
    "print(\"Probability Calculations:\")\n",
    "print(f\"P(Even number) = {P_A:.3f}\")\n",
    "print(f\"P(Number > 4) = {P_B:.3f}\")\n",
    "\n",
    "# Probability axioms verification\n",
    "print(f\"\\nProbability Axioms:\")\n",
    "print(f\"1. Non-negativity: P(A) = {P_A} ≥ 0\")\n",
    "print(f\"2. Certain event: P(S) = {calculate_probability(S_dice, S_dice)} = 1\")"
   ]
  },
  {
   "cell_type": "markdown",
   "id": "28f87f5a",
   "metadata": {},
   "source": [
    "**Use Cases:**\n",
    "- **Game Development:** Calculate odds of winning.\n",
    "- **Risk Assessment:** Evaluate likelihood of events."
   ]
  }
 ],
 "metadata": {
  "kernelspec": {
   "display_name": "py3_13_5",
   "language": "python",
   "name": "python3"
  },
  "language_info": {
   "codemirror_mode": {
    "name": "ipython",
    "version": 3
   },
   "file_extension": ".py",
   "mimetype": "text/x-python",
   "name": "python",
   "nbconvert_exporter": "python",
   "pygments_lexer": "ipython3",
   "version": "3.13.5"
  }
 },
 "nbformat": 4,
 "nbformat_minor": 5
}
