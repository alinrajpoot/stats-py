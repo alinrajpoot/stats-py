{
 "cells": [
  {
   "cell_type": "markdown",
   "id": "66be14e8",
   "metadata": {},
   "source": [
    "## Multiplication Rule\n",
    "The multiplication rule states that for two independent events $ A $ and $ B $, the probability of both events occurring is given by:\n",
    "$$\n",
    "P(A \\cap B) = P(A) \\times P(B)\n",
    "$$\n",
    "For dependent events, the rule is:\n",
    "$$\n",
    "P(A \\cap B) = P(A) \\times P(B|A)\n",
    "$$\n",
    "### Example\n",
    "If $ P(A) = 0.5 $ and $ P(B) = 0.4 $, then $ P(A \\cap B) = 0.5 \\times 0.4 = 0.2 $.\n"
   ]
  },
  {
   "cell_type": "code",
   "execution_count": 1,
   "id": "8a7ce0fd",
   "metadata": {},
   "outputs": [
    {
     "name": "stdout",
     "output_type": "stream",
     "text": [
      "Probability it rains and friend brings umbrella (independent): 0.12\n",
      "Probability it rains and friend brings umbrella (dependent): 0.27\n"
     ]
    }
   ],
   "source": [
    "# Probability it rains on a given day\n",
    "P_rain = 0.3\n",
    "\n",
    "# Probability a friend brings an umbrella (independent of rain)\n",
    "P_umbrella = 0.4\n",
    "\n",
    "# Probability both it rains and friend brings umbrella (independent events)\n",
    "P_rain_and_umbrella = P_rain * P_umbrella\n",
    "print(f\"Probability it rains and friend brings umbrella (independent): {P_rain_and_umbrella}\")\n",
    "\n",
    "# Probability a friend brings an umbrella given that it rains (dependent)\n",
    "P_umbrella_given_rain = 0.9\n",
    "\n",
    "# Probability both it rains and friend brings umbrella (dependent events)\n",
    "P_rain_and_umbrella_dependent = P_rain * P_umbrella_given_rain\n",
    "print(f\"Probability it rains and friend brings umbrella (dependent): {P_rain_and_umbrella_dependent}\")"
   ]
  },
  {
   "cell_type": "markdown",
   "id": "1ea4fa55",
   "metadata": {},
   "source": [
    "**Use Cases:**\n",
    "- **Feature Independence in Naive Bayes:** The multiplication rule is used to compute the joint probability of features assuming independence, a key assumption in the Naive Bayes classifier.\n",
    "- **Probabilistic Graphical Models:** Calculating joint probabilities in Bayesian networks and Markov models relies on the multiplication rule.\n",
    "- **A/B Testing:** Used to determine the probability of multiple independent outcomes occurring together, such as conversion and retention.\n",
    "- **Risk Assessment:** Quantifying the likelihood of simultaneous events, such as system failures or fraud detection.\n",
    "- **Simulation and Sampling:** Generating synthetic data by combining probabilities of independent or dependent events."
   ]
  },
  {
   "cell_type": "markdown",
   "id": "4021b39f",
   "metadata": {},
   "source": []
  }
 ],
 "metadata": {
  "kernelspec": {
   "display_name": "py3_13_5",
   "language": "python",
   "name": "python3"
  },
  "language_info": {
   "codemirror_mode": {
    "name": "ipython",
    "version": 3
   },
   "file_extension": ".py",
   "mimetype": "text/x-python",
   "name": "python",
   "nbconvert_exporter": "python",
   "pygments_lexer": "ipython3",
   "version": "3.13.5"
  }
 },
 "nbformat": 4,
 "nbformat_minor": 5
}
