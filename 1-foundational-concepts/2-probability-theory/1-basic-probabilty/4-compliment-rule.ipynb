{
 "cells": [
  {
   "cell_type": "markdown",
   "id": "149d43f8",
   "metadata": {},
   "source": [
    "## Complement Rule\n",
    "The complement rule states that the probability of the complement of an event $ A $ (i.e., $ A' $) is:\n",
    "$$\n",
    "P(A') = 1 - P(A)\n",
    "$$\n",
    "### Example\n",
    "If $ P(A) = 0.3 $, then $ P(A') = 1 - 0.3 = 0.7 $."
   ]
  },
  {
   "cell_type": "code",
   "execution_count": 2,
   "id": "178f1fd9",
   "metadata": {},
   "outputs": [
    {
     "name": "stdout",
     "output_type": "stream",
     "text": [
      "Probability customer makes a purchase, P(A) = 0.3\n",
      "Probability customer does NOT make a purchase, P(A') = 0.7\n"
     ]
    }
   ],
   "source": [
    "# Probability that a customer makes a purchase\n",
    "P_A = 0.3  # 30% chance a customer makes a purchase\n",
    "\n",
    "# Probability that a customer does NOT make a purchase (complement)\n",
    "P_A_complement = 1 - P_A\n",
    "\n",
    "print(f\"Probability customer makes a purchase, P(A) = {P_A}\")\n",
    "print(f\"Probability customer does NOT make a purchase, P(A') = {P_A_complement}\")"
   ]
  },
  {
   "cell_type": "markdown",
   "id": "93b4ca7d",
   "metadata": {},
   "source": [
    "\n",
    "**Use Cases:**\n",
    "- **Quality Control:** Determine the probability of defective items.\n",
    "- **Marketing:** Estimate the likelihood of customers not responding to a campaign."
   ]
  }
 ],
 "metadata": {
  "kernelspec": {
   "display_name": "py3_13_5",
   "language": "python",
   "name": "python3"
  },
  "language_info": {
   "codemirror_mode": {
    "name": "ipython",
    "version": 3
   },
   "file_extension": ".py",
   "mimetype": "text/x-python",
   "name": "python",
   "nbconvert_exporter": "python",
   "pygments_lexer": "ipython3",
   "version": "3.13.5"
  }
 },
 "nbformat": 4,
 "nbformat_minor": 5
}
