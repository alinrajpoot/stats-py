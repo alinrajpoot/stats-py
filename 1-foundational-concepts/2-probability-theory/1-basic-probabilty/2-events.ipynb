{
 "cells": [
  {
   "cell_type": "markdown",
   "id": "52ab59c0",
   "metadata": {},
   "source": [
    "## Events\n",
    "A subset of the sample space (one or more outcomes).\n",
    "\n",
    "- **Definition**: An event is a specific outcome or a set of outcomes from a random experiment.\n",
    "- **Example**: In a dice roll, getting a 4 is an event; getting an even number (2, 4, or 6) is also an event.\n",
    "\n",
    "\n",
    "**Types of Events:**\n",
    "- **Simple Event**: An event with a single outcome (e.g., rolling a 3).\n",
    "- **Compound Event**: An event with multiple outcomes (e.g., rolling an even number).\n",
    "- **Certain Event**: An event that is sure to happen (e.g., rolling a number between 1 and 6 on a fair die).\n",
    "- **Impossible Event**: An event that cannot happen (e.g., rolling a 7 on a fair die).\n",
    "- **Mutually Exclusive Events**: Events that cannot occur simultaneously (e.g., rolling a 2 and a 5 at the same time).\n"
   ]
  },
  {
   "cell_type": "code",
   "execution_count": null,
   "id": "ca9384ca",
   "metadata": {},
   "outputs": [
    {
     "name": "stdout",
     "output_type": "stream",
     "text": [
      "Sample Space: {1, 2, 3, 4, 5, 6}\n",
      "\n",
      "Types of Events:\n",
      "Simple Event (E1): {3}\n",
      "Compound Event (E2): {2, 4, 6}\n",
      "Certain Event (E3): {1, 2, 3, 4, 5, 6}\n",
      "Impossible Event (E4): set()\n",
      "Mutually Exclusive Events: {1, 3, 5} and {2, 4, 6}\n",
      "  Intersection: set() (Empty = Mutually Exclusive)\n"
     ]
    }
   ],
   "source": [
    "# Sample space: Dice roll\n",
    "S = {1, 2, 3, 4, 5, 6}\n",
    "\n",
    "# Define different types of events\n",
    "events = {\n",
    "    'Simple Event (E1)': {3},                    # Single outcome\n",
    "    'Compound Event (E2)': {2, 4, 6},            # Multiple outcomes (even numbers)\n",
    "    'Certain Event (E3)': S,                     # All outcomes\n",
    "    'Impossible Event (E4)': set(),              # No outcomes\n",
    "    'Mutually Exclusive Events': [\n",
    "        {1, 3, 5},                              # Odd numbers\n",
    "        {2, 4, 6}                               # Even numbers\n",
    "    ]\n",
    "}\n",
    "\n",
    "print(\"Sample Space:\", S)\n",
    "print(\"\\nTypes of Events:\")\n",
    "for event_name, event in events.items():\n",
    "    if isinstance(event, list):\n",
    "        print(f\"{event_name}: {event[0]} and {event[1]}\")\n",
    "        print(f\"  Intersection: {event[0].intersection(event[1])} (Empty = Mutually Exclusive)\")\n",
    "    else:\n",
    "        print(f\"{event_name}: {event}\")"
   ]
  },
  {
   "cell_type": "code",
   "execution_count": null,
   "id": "c8667356",
   "metadata": {},
   "outputs": [],
   "source": []
  }
 ],
 "metadata": {
  "kernelspec": {
   "display_name": "py3_13_5",
   "language": "python",
   "name": "python3"
  },
  "language_info": {
   "codemirror_mode": {
    "name": "ipython",
    "version": 3
   },
   "file_extension": ".py",
   "mimetype": "text/x-python",
   "name": "python",
   "nbconvert_exporter": "python",
   "pygments_lexer": "ipython3",
   "version": "3.13.5"
  }
 },
 "nbformat": 4,
 "nbformat_minor": 5
}
