{
 "cells": [
  {
   "cell_type": "markdown",
   "id": "5304d832",
   "metadata": {},
   "source": [
    "## Sample Space\n",
    "The set of all possible outcomes in a probability experiment.\n",
    "\n",
    "- **Notation:** Usually denoted by $S$ or $Ω$\n",
    "- **Example:** For a coin toss, the sample space is `{Heads, Tails}`.\n",
    "\n",
    "**Types of Sample Spaces:**\n",
    "- **Finite:** Limited number of outcomes (coins, dice)\n",
    "- **Infinite:** Unlimited outcomes (measuring time, distance)\n",
    "- **Discrete:** Countable outcomes\n",
    "- **Continuous:** Uncountable outcomes"
   ]
  },
  {
   "cell_type": "code",
   "execution_count": 1,
   "id": "fd52aef9",
   "metadata": {},
   "outputs": [
    {
     "name": "stdout",
     "output_type": "stream",
     "text": [
      "Coin Toss:\n",
      "Sample Space (S) = {'H', 'T'}\n",
      "Number of outcomes = 2\n",
      "\n",
      "Dice Roll:\n",
      "Sample Space (S) = {1, 2, 3, 4, 5, 6}\n",
      "Number of outcomes = 6\n",
      "\n",
      "Two Coin Tosses:\n",
      "Sample Space (S) = {'TT', 'HT', 'HH', 'TH'}\n",
      "Number of outcomes = 4\n",
      "\n",
      "Card Deck Sample Space: 52 outcomes\n",
      "First 5 cards: ['A of Hearts', '2 of Hearts', '3 of Hearts', '4 of Hearts', '5 of Hearts']\n"
     ]
    }
   ],
   "source": [
    "# Sample spaces for different experiments\n",
    "def display_sample_space(experiment_name, sample_space):\n",
    "    print(f\"{experiment_name}:\")\n",
    "    print(f\"Sample Space (S) = {sample_space}\")\n",
    "    print(f\"Number of outcomes = {len(sample_space)}\\n\")\n",
    "\n",
    "# Coin toss\n",
    "coin_toss = {'H', 'T'}\n",
    "display_sample_space(\"Coin Toss\", coin_toss)\n",
    "\n",
    "# Dice roll\n",
    "dice_roll = {1, 2, 3, 4, 5, 6}\n",
    "display_sample_space(\"Dice Roll\", dice_roll)\n",
    "\n",
    "# Two coin tosses\n",
    "two_coins = {'HH', 'HT', 'TH', 'TT'}\n",
    "display_sample_space(\"Two Coin Tosses\", two_coins)\n",
    "\n",
    "# Card drawn from deck\n",
    "suits = ['Hearts', 'Diamonds', 'Clubs', 'Spades']\n",
    "ranks = ['A', '2', '3', '4', '5', '6', '7', '8', '9', '10', 'J', 'Q', 'K']\n",
    "deck = [f'{rank} of {suit}' for suit in suits for rank in ranks]\n",
    "print(f\"Card Deck Sample Space: {len(deck)} outcomes\")\n",
    "print(f\"First 5 cards: {deck[:5]}\")"
   ]
  }
 ],
 "metadata": {
  "kernelspec": {
   "display_name": "py3_13_5",
   "language": "python",
   "name": "python3"
  },
  "language_info": {
   "codemirror_mode": {
    "name": "ipython",
    "version": 3
   },
   "file_extension": ".py",
   "mimetype": "text/x-python",
   "name": "python",
   "nbconvert_exporter": "python",
   "pygments_lexer": "ipython3",
   "version": "3.13.5"
  }
 },
 "nbformat": 4,
 "nbformat_minor": 5
}
