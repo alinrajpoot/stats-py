{
 "cells": [
  {
   "cell_type": "markdown",
   "id": "b06eb24d",
   "metadata": {},
   "source": [
    "## Bayes' Theorem\n",
    "Bayes' theorem relates the conditional and marginal probabilities of random events. It is expressed as:\n",
    "$$\n",
    "P(A|B) = \\frac{P(B|A) \\cdot P(A)}{P(B)}\n",
    "$$\n",
    "### Example\n",
    "If $ P(B|A) = 0.8 $, $ P(A) = 0.5 $, and $ P(B) = 0.6 $, then\n",
    "$$\n",
    "P(A|B) = \\frac{0.8 \\cdot 0.5}{0.6} \\approx 0.67.\n",
    "$$"
   ]
  },
  {
   "cell_type": "code",
   "execution_count": 1,
   "id": "06d8dd37",
   "metadata": {},
   "outputs": [
    {
     "name": "stdout",
     "output_type": "stream",
     "text": [
      "Probability of having the disease given a positive test: 50.00%\n"
     ]
    }
   ],
   "source": [
    "# Real-world example: Medical Diagnosis using Bayes' Theorem\n",
    "\n",
    "# Suppose:\n",
    "# - 1% of a population has a certain disease (P(Disease) = 0.01)\n",
    "# - The test for the disease is 99% accurate: \n",
    "#   - If you have the disease, the test is positive 99% of the time (P(Pos|Disease) = 0.99)\n",
    "#   - If you don't have the disease, the test is negative 99% of the time (P(Neg|No Disease) = 0.99)\n",
    "#   - So, P(Pos|No Disease) = 0.01 (false positive rate)\n",
    "\n",
    "# If a person tests positive, what is the probability they actually have the disease? (P(Disease|Pos))\n",
    "\n",
    "P_Disease = 0.01\n",
    "P_NoDisease = 1 - P_Disease\n",
    "P_Pos_given_Disease = 0.99\n",
    "P_Pos_given_NoDisease = 0.01\n",
    "\n",
    "# Total probability of testing positive\n",
    "P_Pos = P_Pos_given_Disease * P_Disease + P_Pos_given_NoDisease * P_NoDisease\n",
    "\n",
    "# Bayes' theorem\n",
    "P_Disease_given_Pos = (P_Pos_given_Disease * P_Disease) / P_Pos\n",
    "\n",
    "print(f\"Probability of having the disease given a positive test: {P_Disease_given_Pos:.2%}\")"
   ]
  }
 ],
 "metadata": {
  "kernelspec": {
   "display_name": "py3_13_5",
   "language": "python",
   "name": "python3"
  },
  "language_info": {
   "codemirror_mode": {
    "name": "ipython",
    "version": 3
   },
   "file_extension": ".py",
   "mimetype": "text/x-python",
   "name": "python",
   "nbconvert_exporter": "python",
   "pygments_lexer": "ipython3",
   "version": "3.13.5"
  }
 },
 "nbformat": 4,
 "nbformat_minor": 5
}
